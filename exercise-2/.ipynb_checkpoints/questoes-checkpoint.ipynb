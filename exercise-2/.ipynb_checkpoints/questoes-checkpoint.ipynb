{
 "cells": [
  {
   "cell_type": "markdown",
   "metadata": {},
   "source": [
    "<h1>Questão 1</h1>"
   ]
  },
  {
   "cell_type": "markdown",
   "metadata": {},
   "source": [
    "Derive a solucao de mınimos quadrados para um modelo de regressao linear simples sem intercept: \n",
    "<h4>Para D = 1</h4>\n",
    "$$ h(x) = \\theta x. $$"
   ]
  },
  {
   "cell_type": "markdown",
   "metadata": {},
   "source": [
    "$$ \\mathcal{l}_{n} = | \\mathcal{y}_{n} - h(x) | $$"
   ]
  },
  {
   "cell_type": "markdown",
   "metadata": {},
   "source": [
    "$$ \\mathcal{L}(\\theta) = \\sum_{n=1}^{N} \\mathcal{l}_{n}^{2}$$"
   ]
  },
  {
   "cell_type": "markdown",
   "metadata": {},
   "source": [
    "$$ \\hat{\\theta} = argmin \\mathcal{L}(\\theta)$$"
   ]
  },
  {
   "cell_type": "markdown",
   "metadata": {},
   "source": [
    "$$ min \\mathcal{L}(\\theta) $$"
   ]
  },
  {
   "cell_type": "markdown",
   "metadata": {},
   "source": [
    "$$ min\\sum_{n=1}^{N} (\\mathcal{y}_{n} - \\theta x_{n})^2\\\\ $$"
   ]
  },
  {
   "cell_type": "markdown",
   "metadata": {},
   "source": [
    "$$\\frac{\\partial h(x)}{\\partial \\theta}=0$$"
   ]
  },
  {
   "cell_type": "markdown",
   "metadata": {},
   "source": [
    "$$\\frac{\\partial h(x)}{\\partial \\theta}= 2 \\sum_{n=1}^{N}(\\mathcal{y}_{n}-\\theta x_{n})(-x_{n})$$\n"
   ]
  },
  {
   "cell_type": "markdown",
   "metadata": {},
   "source": [
    "$$\\frac{2 \\sum_{n=1}^{N}(\\mathcal{y}_{n}-\\theta x_{n})(-x_{n})}{2} = \\frac{0}{2}$$"
   ]
  },
  {
   "cell_type": "markdown",
   "metadata": {},
   "source": [
    "$$\\sum_{n=1}^{N}(\\mathcal{y}_{n}-\\theta x_{n})(-x_{n}) = 0$$"
   ]
  },
  {
   "cell_type": "markdown",
   "metadata": {},
   "source": [
    "$$\\sum_{n=1}^{N}(-\\mathcal{y}_{n}x_{n} +\\theta x_{n}^{2})= 0$$"
   ]
  },
  {
   "cell_type": "markdown",
   "metadata": {},
   "source": [
    "$$-\\sum_{n=1}^{N}(\\mathcal{y}_{n}x_{n}) + \\sum_{n=1}^{N}\\theta x_{n}^{2} = 0$$"
   ]
  },
  {
   "cell_type": "markdown",
   "metadata": {},
   "source": [
    "$$\\sum_{n=1}^{N}(\\mathcal{y}_{n}x_{n}) = \\theta \\sum_{n=1}^{N} x_{n}^{2}$$"
   ]
  },
  {
   "cell_type": "markdown",
   "metadata": {},
   "source": [
    "$$\\frac{\\sum_{n=1}^{N}(\\mathcal{y}_{n}x_{n})}{N} = \\frac{\\theta \\sum_{n=1}^{N} x_{n}^{2}}{N}$$"
   ]
  },
  {
   "cell_type": "markdown",
   "metadata": {},
   "source": [
    "$$ \\theta\\bar{x}^{2} = \\bar{y}\\bar{x}$$"
   ]
  },
  {
   "cell_type": "markdown",
   "metadata": {},
   "source": [
    "$$\\theta = \\frac{\\bar{y}\\bar{x}}{\\bar x^{2}} $$"
   ]
  },
  {
   "cell_type": "markdown",
   "metadata": {},
   "source": [
    "<h4>Para D > 1</h4>"
   ]
  },
  {
   "cell_type": "markdown",
   "metadata": {},
   "source": [
    "$$ h(\\overrightarrow{x}) = \\theta_{1} x_{1} + \\theta_{2} x_{2} + \\theta_{3} x_{3} + \\cdots + \\theta_{D} x_{D} = \\begin{bmatrix} x_{1},x_{2},x_{3}, \\cdots,x_{D} \\end{bmatrix} \\cdot \\begin{bmatrix} \\theta_{1} \\\\\\theta_{2} \\\\\\theta_{3} \\\\\\vdots \\\\\\theta_{D} \\end{bmatrix}\n",
    "$$"
   ]
  },
  {
   "cell_type": "markdown",
   "metadata": {},
   "source": [
    "$$= \\overrightarrow{x}^T\\cdot\\overrightarrow{\\theta}$$"
   ]
  },
  {
   "cell_type": "markdown",
   "metadata": {},
   "source": [
    "$$\\overrightarrow{\\hat{\\theta}_{ls}} = Argmin{\\sum_{n=1}^{N}(y_n-x_{n}^T\\theta )}$$"
   ]
  },
  {
   "cell_type": "markdown",
   "metadata": {},
   "source": [
    "$$\\overrightarrow{\\nabla}\\mathcal{L} =\n",
    "\\begin{bmatrix}\\frac{\\partial\\mathcal{L}}{\\partial\\theta_1}\n",
    "\\\\\\frac{\\partial\\mathcal{L}}{\\partial\\theta_2}\n",
    "\\\\\\vdots\n",
    "\\\\\\frac{\\partial\\mathcal{L}}{\\partial\\theta_D}\n",
    "\\end{bmatrix} = \\overrightarrow{\\theta} \\Longrightarrow \\ \\boxed{\\overrightarrow{\\hat{\\theta}_{ls}} = (x^T x)^{-1} x^T y} $$"
   ]
  },
  {
   "cell_type": "markdown",
   "metadata": {},
   "source": [
    "<h1>Questão 2</h1>"
   ]
  },
  {
   "cell_type": "code",
   "execution_count": 1,
   "metadata": {},
   "outputs": [],
   "source": [
    "#importações para o funcionamento\n",
    "import pandas as pd\n",
    "from pandas import read_csv\n",
    "import matplotlib.pyplot as plt\n",
    "import torch \n",
    "import numpy as np"
   ]
  },
  {
   "cell_type": "code",
   "execution_count": 2,
   "metadata": {},
   "outputs": [],
   "source": [
    "#carregamento do dataframe\n",
    "names = ['x','y']\n",
    "df = pd.read_csv('data_reg_linear1.csv', names = names, sep=' ')\n",
    "values = df.values\n",
    "#conversão para tensor\n",
    "tensor_values= torch.from_numpy(values)"
   ]
  },
  {
   "cell_type": "code",
   "execution_count": 3,
   "metadata": {},
   "outputs": [],
   "source": [
    "#armazenando os dados\n",
    "x = tensor_values[:,:-1]\n",
    "y = tensor_values[:, -1]\n",
    "#adicionando o bias\n",
    "tensor_ones = torch.ones(x[:].shape)\n",
    "x_with_ones = torch.cat((tensor_ones, x), 1)"
   ]
  },
  {
   "cell_type": "code",
   "execution_count": 4,
   "metadata": {},
   "outputs": [
    {
     "data": {
      "text/plain": [
       "tensor(0.0379, dtype=torch.float64)"
      ]
     },
     "execution_count": 4,
     "metadata": {},
     "output_type": "execute_result"
    }
   ],
   "source": [
    "#calculando o theta\n",
    "theta = torch.inverse(x_with_ones.T @ x_with_ones) @ x_with_ones.T @ y\n",
    "test = x_with_ones @ theta\n",
    "#calculando o erro quadrático\n",
    "error = torch.mean((y - test)**2)\n",
    "error"
   ]
  },
  {
   "cell_type": "code",
   "execution_count": 5,
   "metadata": {},
   "outputs": [
    {
     "data": {
      "image/png": "[encoded data removed]",
      "text/plain": [
       "<Figure size 432x288 with 1 Axes>"
      ]
     },
     "metadata": {
      "needs_background": "light"
     },
     "output_type": "display_data"
    }
   ],
   "source": [
    "plt.scatter(x, y)\n",
    "plt.plot(x,test,color = 'black',marker = 'o')\n",
    "plt.title(\"h1(x)\")\n",
    "plt.grid(True)\n",
    "plt.xlabel(\"ŷ\")\n",
    "plt.ylabel(\"y\")\n",
    "plt.show()"
   ]
  },
  {
   "cell_type": "code",
   "execution_count": 6,
   "metadata": {},
   "outputs": [
    {
     "data": {
      "text/plain": [
       "tensor(0.2338, dtype=torch.float64)"
      ]
     },
     "execution_count": 6,
     "metadata": {},
     "output_type": "execute_result"
    }
   ],
   "source": [
    "#calculando o theta sem a presença do bias\n",
    "theta = torch.inverse(x.T @ x) @ x.T @ y\n",
    "test = x @ theta\n",
    "error = torch.mean((y - test)**2)\n",
    "error"
   ]
  },
  {
   "cell_type": "code",
   "execution_count": 7,
   "metadata": {
    "scrolled": true
   },
   "outputs": [
    {
     "data": {
      "image/png": "[encoded data removed]",
      "text/plain": [
       "<Figure size 432x288 with 1 Axes>"
      ]
     },
     "metadata": {
      "needs_background": "light"
     },
     "output_type": "display_data"
    }
   ],
   "source": [
    "plt.scatter(x, y)\n",
    "plt.plot(x,test,color = 'black',marker = 'o')\n",
    "plt.title(\"h2(x)\")\n",
    "plt.grid(True)\n",
    "plt.xlabel(\"ŷ\")\n",
    "plt.ylabel(\"y\")\n",
    "plt.show()"
   ]
  },
  {
   "cell_type": "markdown",
   "metadata": {},
   "source": [
    "<h1>Questão 3</h1>"
   ]
  },
  {
   "cell_type": "code",
   "execution_count": 11,
   "metadata": {},
   "outputs": [],
   "source": [
    "#fazendo a importação do dataset com o uso do sklearn\n",
    "from sklearn.datasets import load_boston\n",
    "boston = load_boston()\n",
    "#carregando os dados das 13 colunas em x\n",
    "x = pd.DataFrame(load_boston().data, columns = boston.feature_names).values\n",
    "#carregando os dados de saída em y\n",
    "y = pd.DataFrame(boston.target).values \n",
    "\n",
    "#variável para me auxiliar a pegar uma % dos valores\n",
    "N_total = 506\n",
    "N = int(N_total*0.8)\n",
    "\n",
    "#dados de treino\n",
    "y_train = torch.from_numpy(y[:N,:])\n",
    "\n",
    "#criação do bias\n",
    "bias = np.ones(y_train.shape)\n",
    "\n",
    "x_train_with_ones = torch.from_numpy(np.concatenate((bias, x[:N,:]), axis=1))\n",
    "\n",
    "#dados de teste\n",
    "x_test = x[N:,:]\n",
    "y_test = torch.from_numpy(y[N:,:])\n",
    "bias_test = np.ones(y_test.shape)\n",
    "test_x = torch.from_numpy(np.concatenate((bias_test,x_test), axis=1))"
   ]
  },
  {
   "cell_type": "code",
   "execution_count": 12,
   "metadata": {},
   "outputs": [
    {
     "data": {
      "text/plain": [
       "tensor(32.7999, dtype=torch.float64)"
      ]
     },
     "execution_count": 12,
     "metadata": {},
     "output_type": "execute_result"
    }
   ],
   "source": [
    "#calculo do theta e do erro quadrático feito anteriormente\n",
    "theta = torch.inverse(x_train_with_ones.T @ x_train_with_ones) @ x_train_with_ones.T @ y_train\n",
    "test = test_x @ theta\n",
    "error = torch.mean((y_test - test )**2)\n",
    "error"
   ]
  },
  {
   "cell_type": "code",
   "execution_count": null,
   "metadata": {},
   "outputs": [],
   "source": []
  }
 ],
 "metadata": {
  "kernelspec": {
   "display_name": "Python 3",
   "language": "python",
   "name": "python3"
  },
  "language_info": {
   "codemirror_mode": {
    "name": "ipython",
    "version": 3
   },
   "file_extension": ".py",
   "mimetype": "text/x-python",
   "name": "python",
   "nbconvert_exporter": "python",
   "pygments_lexer": "ipython3",
   "version": "3.8.2"
  }
 },
 "nbformat": 4,
 "nbformat_minor": 4
}
