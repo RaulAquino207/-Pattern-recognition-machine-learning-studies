{
 "cells": [
  {
   "cell_type": "markdown",
   "metadata": {},
   "source": [
    "<h1>Questão 1</h1>"
   ]
  },
  {
   "cell_type": "markdown",
   "metadata": {},
   "source": [
    "Derive a solucao de mınimos quadrados para um modelo de regressao linear simples sem intercept: \n",
    "<h4>Para D = 1</h4>\n",
    "$$ h(x) = \\theta x. $$"
   ]
  },
  {
   "cell_type": "markdown",
   "metadata": {},
   "source": [
    "$$ \\mathcal{l}_{n} = | \\mathcal{y}_{n} - h(x) | $$"
   ]
  },
  {
   "cell_type": "markdown",
   "metadata": {},
   "source": [
    "$$ \\mathcal{L}(\\theta) = \\sum_{n=1}^{N} \\mathcal{l}_{n}^{2}$$"
   ]
  },
  {
   "cell_type": "markdown",
   "metadata": {},
   "source": [
    "$$ \\hat{\\theta} = argmin \\mathcal{L}(\\theta)$$"
   ]
  },
  {
   "cell_type": "markdown",
   "metadata": {},
   "source": [
    "$$ min \\mathcal{L}(\\theta) $$"
   ]
  },
  {
   "cell_type": "markdown",
   "metadata": {},
   "source": [
    "$$ min\\sum_{n=1}^{N} (\\mathcal{y}_{n} - \\theta x_{n})^2\\\\ $$"
   ]
  },
  {
   "cell_type": "markdown",
   "metadata": {},
   "source": [
    "$$\\frac{\\partial h(x)}{\\partial \\theta}=0$$"
   ]
  },
  {
   "cell_type": "markdown",
   "metadata": {},
   "source": [
    "$$\\frac{\\partial h(x)}{\\partial \\theta}= 2 \\sum_{n=1}^{N}(\\mathcal{y}_{n}-\\theta x_{n})(-x_{n})$$\n"
   ]
  },
  {
   "cell_type": "markdown",
   "metadata": {},
   "source": [
    "$$\\frac{2 \\sum_{n=1}^{N}(\\mathcal{y}_{n}-\\theta x_{n})(-x_{n})}{2} = \\frac{0}{2}$$"
   ]
  },
  {
   "cell_type": "markdown",
   "metadata": {},
   "source": [
    "$$\\sum_{n=1}^{N}(\\mathcal{y}_{n}-\\theta x_{n})(-x_{n}) = 0$$"
   ]
  },
  {
   "cell_type": "markdown",
   "metadata": {},
   "source": [
    "$$\\sum_{n=1}^{N}(-\\mathcal{y}_{n}x_{n} +\\theta x_{n}^{2})= 0$$"
   ]
  },
  {
   "cell_type": "markdown",
   "metadata": {},
   "source": [
    "$$-\\sum_{n=1}^{N}(\\mathcal{y}_{n}x_{n}) + \\sum_{n=1}^{N}\\theta x_{n}^{2} = 0$$"
   ]
  },
  {
   "cell_type": "markdown",
   "metadata": {},
   "source": [
    "$$\\sum_{n=1}^{N}(\\mathcal{y}_{n}x_{n}) = \\theta \\sum_{n=1}^{N} x_{n}^{2}$$"
   ]
  },
  {
   "cell_type": "markdown",
   "metadata": {},
   "source": [
    "$$\\frac{\\sum_{n=1}^{N}(\\mathcal{y}_{n}x_{n})}{N} = \\frac{\\theta \\sum_{n=1}^{N} x_{n}^{2}}{N}$$"
   ]
  },
  {
   "cell_type": "markdown",
   "metadata": {},
   "source": [
    "$$ \\theta\\bar{x}^{2} = \\bar{y}\\bar{x}$$"
   ]
  },
  {
   "cell_type": "markdown",
   "metadata": {},
   "source": [
    "$$\\theta = \\frac{\\bar{y}\\bar{x}}{\\bar x^{2}} $$"
   ]
  },
  {
   "cell_type": "markdown",
   "metadata": {},
   "source": [
    "<h4>Para D > 1</h4>"
   ]
  },
  {
   "cell_type": "markdown",
   "metadata": {},
   "source": [
    "$$h(\\overrightarrow{x}) = \\theta_1 x_1 +\\theta_2 x_2 +\\theta_3 x_3 + ... + \\theta_D x_D \\\\\n",
    "    = \\begin{bmatrix}X_1,X_2,X_3,\\cdots,X_D\\end{bmatrix} \\cdot \\begin{bmatrix}\\theta_1\\\\\\theta_2\\\\\\theta_3\\\\\\vdots\\\\\\theta_D\\end{bmatrix}\n",
    "$$"
   ]
  },
  {
   "cell_type": "markdown",
   "metadata": {},
   "source": [
    "$$= \\overrightarrow{x}^T\\cdot\\overrightarrow{\\theta}$$"
   ]
  },
  {
   "cell_type": "markdown",
   "metadata": {},
   "source": [
    "$$\\overrightarrow{\\hat{\\theta}_{ls}} = Argmin{\\sum_{n=1}^{N}(y_n-x_{n}^T\\theta )}$$"
   ]
  },
  {
   "cell_type": "markdown",
   "metadata": {},
   "source": [
    "$$\\overrightarrow{\\nabla}\\mathcal{L} =\n",
    "\\begin{bmatrix}\\frac{\\partial\\mathcal{L}}{\\partial\\theta_1}\n",
    "\\\\\\frac{\\partial\\mathcal{L}}{\\partial\\theta_2}\n",
    "\\\\\\vdots\n",
    "\\\\\\frac{\\partial\\mathcal{L}}{\\partial\\theta_D}\n",
    "\\end{bmatrix} = \\overrightarrow{\\theta} \\Longrightarrow \\ \\boxed{\\overrightarrow{\\hat{\\theta}_{ls}} = (x^T x)^{-1} x^T y} $$"
   ]
  },
  {
   "cell_type": "markdown",
   "metadata": {},
   "source": [
    "<h1>Questão 2</h1>"
   ]
  },
  {
   "cell_type": "code",
   "execution_count": 3,
   "metadata": {},
   "outputs": [],
   "source": [
    "import pandas as pd\n",
    "from pandas import read_csv\n",
    "import matplotlib.pyplot as plt\n",
    "import torch \n",
    "import numpy as np"
   ]
  },
  {
   "cell_type": "code",
   "execution_count": 9,
   "metadata": {},
   "outputs": [],
   "source": [
    "names = ['x','y']\n",
    "df = pd.read_csv('data_reg_linear1.csv', names = names, sep=' ')\n",
    "values = df.values\n",
    "tensor_values= torch.from_numpy(values)"
   ]
  },
  {
   "cell_type": "code",
   "execution_count": 11,
   "metadata": {},
   "outputs": [],
   "source": [
    "x = tensor_values[:,:-1]\n",
    "y = tensor_values[:, -1]\n",
    "tensor_ones = torch.ones(x[:].shape)\n",
    "x_with_ones = torch.cat((tensor_ones, x), 1)"
   ]
  },
  {
   "cell_type": "code",
   "execution_count": 12,
   "metadata": {},
   "outputs": [
    {
     "data": {
      "text/plain": [
       "tensor(2.4159e-34, dtype=torch.float64)"
      ]
     },
     "execution_count": 12,
     "metadata": {},
     "output_type": "execute_result"
    }
   ],
   "source": [
    "theta = torch.inverse(x_with_ones.T @ x_with_ones) @ x_with_ones.T @ y\n",
    "test = x_with_ones @ theta\n",
    "error = torch.mean((y - test))**2\n",
    "error"
   ]
  },
  {
   "cell_type": "code",
   "execution_count": null,
   "metadata": {},
   "outputs": [],
   "source": []
  }
 ],
 "metadata": {
  "kernelspec": {
   "display_name": "Python 3",
   "language": "python",
   "name": "python3"
  },
  "language_info": {
   "codemirror_mode": {
    "name": "ipython",
    "version": 3
   },
   "file_extension": ".py",
   "mimetype": "text/x-python",
   "name": "python",
   "nbconvert_exporter": "python",
   "pygments_lexer": "ipython3",
   "version": "3.8.2"
  }
 },
 "nbformat": 4,
 "nbformat_minor": 4
}
