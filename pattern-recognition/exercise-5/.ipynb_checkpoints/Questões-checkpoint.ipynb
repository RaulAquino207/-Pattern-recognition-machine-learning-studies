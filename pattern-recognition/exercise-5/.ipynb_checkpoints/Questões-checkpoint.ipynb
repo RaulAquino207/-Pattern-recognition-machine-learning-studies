{
 "cells": [
  {
   "cell_type": "markdown",
   "metadata": {},
   "source": [
    "Primeira questão"
   ]
  },
  {
   "cell_type": "code",
   "execution_count": 3,
   "metadata": {},
   "outputs": [],
   "source": [
    "import numpy as np\n",
    "import torch\n",
    "import torch.nn as nn\n",
    "import torchvision.transforms as transforms\n",
    "import torchvision.datasets as datasets\n",
    "from torch.nn import functional as F"
   ]
  },
  {
   "cell_type": "code",
   "execution_count": 10,
   "metadata": {},
   "outputs": [],
   "source": [
    "class FeedForward(nn.Module):\n",
    "\n",
    "\n",
    "    def __init__(self,input_dim, hidden_dim, num_classes):\n",
    "        super().__init__()\n",
    "        self.fc1 = nn.Linear(input_dim, hidden_dim)\n",
    "        self.fc2 = nn.Linear(hidden_dim, num_classes)\n",
    "    def forward(self, x):\n",
    "        out = self.fc1(x)\n",
    "        out = F.relu(out)\n",
    "        out = self.fc2(out)\n",
    "        return out"
   ]
  },
  {
   "cell_type": "code",
   "execution_count": 11,
   "metadata": {},
   "outputs": [],
   "source": [
    "from sklearn.model_selection import train_test_split\n",
    "dset_1questao = np.genfromtxt('dados-ex5.txt',delimiter=',')\n",
    "dset_1questao = torch.from_numpy(dset_1questao)\n",
    "dset_1questao.shape\n",
    "\n",
    "x = dset_1questao[:,:-1]\n",
    "y = dset_1questao[:,-1]\n",
    "\n",
    "x = torch.FloatTensor(x.float())\n",
    "y = torch.FloatTensor(y.float())\n",
    "\n",
    "X_train, X_test, Y_train, Y_test = train_test_split(x, y, test_size=0.4, random_state=100)\n",
    "\n",
    "input = 2\n",
    "\n",
    "output = 10\n",
    "hidden = 100\n",
    "\n",
    "model = FeedForward(input, hidden,output)"
   ]
  },
  {
   "cell_type": "code",
   "execution_count": 12,
   "metadata": {},
   "outputs": [
    {
     "name": "stderr",
     "output_type": "stream",
     "text": [
      "<ipython-input-12-dd2a5cd346bf>:4: UserWarning: To copy construct from a tensor, it is recommended to use sourceTensor.clone().detach() or sourceTensor.clone().detach().requires_grad_(True), rather than torch.tensor(sourceTensor).\n",
      "  train_ds = torch.utils.data.TensorDataset(torch.tensor(X_train), torch.tensor(Y_train))\n",
      "<ipython-input-12-dd2a5cd346bf>:5: UserWarning: To copy construct from a tensor, it is recommended to use sourceTensor.clone().detach() or sourceTensor.clone().detach().requires_grad_(True), rather than torch.tensor(sourceTensor).\n",
      "  test_ds = torch.utils.data.TensorDataset(torch.tensor(X_test), torch.tensor(Y_test))\n"
     ]
    }
   ],
   "source": [
    "batch_size = 64\n",
    "\n",
    "\n",
    "train_ds = torch.utils.data.TensorDataset(torch.tensor(X_train), torch.tensor(Y_train))\n",
    "test_ds = torch.utils.data.TensorDataset(torch.tensor(X_test), torch.tensor(Y_test))\n",
    "\n",
    "trainset = torch.utils.data.DataLoader(train_ds, batch_size=batch_size, shuffle=True)\n",
    "testset = torch.utils.data.DataLoader(test_ds, batch_size=360, shuffle=True)"
   ]
  },
  {
   "cell_type": "code",
   "execution_count": 13,
   "metadata": {},
   "outputs": [],
   "source": [
    "loss_func = nn.CrossEntropyLoss()\n",
    "learning_rate = 0.01\n",
    "optimizer = torch.optim.SGD(model.parameters(), lr = 0.01)"
   ]
  },
  {
   "cell_type": "code",
   "execution_count": 14,
   "metadata": {},
   "outputs": [
    {
     "name": "stderr",
     "output_type": "stream",
     "text": [
      "/home/raul/.local/lib/python3.8/site-packages/sklearn/neural_network/_multilayer_perceptron.py:582: ConvergenceWarning: Stochastic Optimizer: Maximum iterations (400) reached and the optimization hasn't converged yet.\n",
      "  warnings.warn(\n"
     ]
    },
    {
     "data": {
      "text/plain": [
       "0.9861111111111112"
      ]
     },
     "execution_count": 14,
     "metadata": {},
     "output_type": "execute_result"
    }
   ],
   "source": [
    "from sklearn.neural_network import MLPClassifier\n",
    "clf = MLPClassifier(random_state=100, max_iter=400).fit(X_train, Y_train)\n",
    "clf.predict_proba(X_test[:,:])\n",
    "clf.score(X_test, Y_test)"
   ]
  },
  {
   "cell_type": "code",
   "execution_count": 15,
   "metadata": {},
   "outputs": [
    {
     "data": {
      "text/plain": [
       "torch.Size([360])"
      ]
     },
     "execution_count": 15,
     "metadata": {},
     "output_type": "execute_result"
    }
   ],
   "source": [
    "train_losses, test_losses = [], []\n",
    "Y_test.shape"
   ]
  },
  {
   "cell_type": "code",
   "execution_count": 16,
   "metadata": {},
   "outputs": [
    {
     "name": "stdout",
     "output_type": "stream",
     "text": [
      "tensor(18.9306)\n",
      "Epoca:0, Loss: 18.931,Acuracia:75.278\n",
      "tensor(14.6279)\n",
      "Epoca:1, Loss: 14.628,Acuracia:86.944\n",
      "tensor(11.4728)\n",
      "Epoca:2, Loss: 11.473,Acuracia:86.111\n",
      "tensor(9.3300)\n",
      "Epoca:3, Loss: 9.330,Acuracia:86.111\n",
      "tensor(7.8847)\n",
      "Epoca:4, Loss: 7.885,Acuracia:86.667\n",
      "tensor(6.9136)\n",
      "Epoca:5, Loss: 6.914,Acuracia:86.667\n",
      "tensor(6.1130)\n",
      "Epoca:6, Loss: 6.113,Acuracia:86.667\n",
      "tensor(5.6064)\n",
      "Epoca:7, Loss: 5.606,Acuracia:86.667\n",
      "tensor(5.1822)\n",
      "Epoca:8, Loss: 5.182,Acuracia:86.667\n",
      "tensor(4.8869)\n",
      "Epoca:9, Loss: 4.887,Acuracia:86.667\n",
      "tensor(4.6347)\n",
      "Epoca:10, Loss: 4.635,Acuracia:86.389\n",
      "tensor(4.4861)\n",
      "Epoca:11, Loss: 4.486,Acuracia:86.667\n",
      "tensor(4.2915)\n",
      "Epoca:12, Loss: 4.291,Acuracia:86.667\n",
      "tensor(4.2437)\n",
      "Epoca:13, Loss: 4.244,Acuracia:86.944\n",
      "tensor(4.0442)\n",
      "Epoca:14, Loss: 4.044,Acuracia:86.944\n",
      "tensor(3.8735)\n",
      "Epoca:15, Loss: 3.873,Acuracia:87.778\n",
      "tensor(3.8834)\n",
      "Epoca:16, Loss: 3.883,Acuracia:87.778\n",
      "tensor(3.7356)\n",
      "Epoca:17, Loss: 3.736,Acuracia:87.778\n",
      "tensor(3.7186)\n",
      "Epoca:18, Loss: 3.719,Acuracia:88.056\n",
      "tensor(3.6566)\n",
      "Epoca:19, Loss: 3.657,Acuracia:88.056\n",
      "tensor(3.5325)\n",
      "Epoca:20, Loss: 3.532,Acuracia:88.056\n",
      "tensor(3.4865)\n",
      "Epoca:21, Loss: 3.486,Acuracia:88.611\n",
      "tensor(3.4929)\n",
      "Epoca:22, Loss: 3.493,Acuracia:88.611\n",
      "tensor(3.3204)\n",
      "Epoca:23, Loss: 3.320,Acuracia:88.611\n",
      "tensor(3.3989)\n",
      "Epoca:24, Loss: 3.399,Acuracia:88.611\n",
      "tensor(3.3702)\n",
      "Epoca:25, Loss: 3.370,Acuracia:88.611\n",
      "tensor(3.2063)\n",
      "Epoca:26, Loss: 3.206,Acuracia:88.611\n",
      "tensor(3.1988)\n",
      "Epoca:27, Loss: 3.199,Acuracia:88.611\n",
      "tensor(3.2040)\n",
      "Epoca:28, Loss: 3.204,Acuracia:88.611\n",
      "tensor(3.2130)\n",
      "Epoca:29, Loss: 3.213,Acuracia:88.611\n",
      "tensor(3.0636)\n",
      "Epoca:30, Loss: 3.064,Acuracia:88.611\n",
      "tensor(3.1405)\n",
      "Epoca:31, Loss: 3.140,Acuracia:88.889\n",
      "tensor(3.0561)\n",
      "Epoca:32, Loss: 3.056,Acuracia:88.889\n",
      "tensor(2.9948)\n",
      "Epoca:33, Loss: 2.995,Acuracia:88.889\n",
      "tensor(3.0611)\n",
      "Epoca:34, Loss: 3.061,Acuracia:89.444\n",
      "tensor(3.0186)\n",
      "Epoca:35, Loss: 3.019,Acuracia:89.444\n",
      "tensor(3.0475)\n",
      "Epoca:36, Loss: 3.047,Acuracia:89.444\n",
      "tensor(3.0185)\n",
      "Epoca:37, Loss: 3.019,Acuracia:89.444\n",
      "tensor(3.0231)\n",
      "Epoca:38, Loss: 3.023,Acuracia:89.722\n",
      "tensor(2.9064)\n",
      "Epoca:39, Loss: 2.906,Acuracia:89.722\n",
      "tensor(2.8825)\n",
      "Epoca:40, Loss: 2.883,Acuracia:90.556\n",
      "tensor(2.9498)\n",
      "Epoca:41, Loss: 2.950,Acuracia:90.278\n",
      "tensor(2.8572)\n",
      "Epoca:42, Loss: 2.857,Acuracia:90.278\n",
      "tensor(2.8673)\n",
      "Epoca:43, Loss: 2.867,Acuracia:90.556\n",
      "tensor(2.8923)\n",
      "Epoca:44, Loss: 2.892,Acuracia:90.556\n",
      "tensor(2.8589)\n",
      "Epoca:45, Loss: 2.859,Acuracia:90.556\n",
      "tensor(2.8062)\n",
      "Epoca:46, Loss: 2.806,Acuracia:90.556\n",
      "tensor(2.7836)\n",
      "Epoca:47, Loss: 2.784,Acuracia:90.833\n",
      "tensor(2.8796)\n",
      "Epoca:48, Loss: 2.880,Acuracia:90.556\n",
      "tensor(2.7987)\n",
      "Epoca:49, Loss: 2.799,Acuracia:90.556\n",
      "tensor(2.8010)\n",
      "Epoca:50, Loss: 2.801,Acuracia:90.556\n",
      "tensor(2.7485)\n",
      "Epoca:51, Loss: 2.749,Acuracia:90.556\n",
      "tensor(2.7127)\n",
      "Epoca:52, Loss: 2.713,Acuracia:90.278\n",
      "tensor(2.7722)\n",
      "Epoca:53, Loss: 2.772,Acuracia:90.278\n",
      "tensor(2.7393)\n",
      "Epoca:54, Loss: 2.739,Acuracia:90.556\n",
      "tensor(2.7431)\n",
      "Epoca:55, Loss: 2.743,Acuracia:90.278\n",
      "tensor(2.6957)\n",
      "Epoca:56, Loss: 2.696,Acuracia:90.278\n",
      "tensor(2.7536)\n",
      "Epoca:57, Loss: 2.754,Acuracia:90.278\n",
      "tensor(2.7155)\n",
      "Epoca:58, Loss: 2.716,Acuracia:90.278\n",
      "tensor(2.7138)\n",
      "Epoca:59, Loss: 2.714,Acuracia:90.278\n",
      "tensor(2.6527)\n",
      "Epoca:60, Loss: 2.653,Acuracia:90.278\n",
      "tensor(2.6727)\n",
      "Epoca:61, Loss: 2.673,Acuracia:90.278\n",
      "tensor(2.6597)\n",
      "Epoca:62, Loss: 2.660,Acuracia:90.278\n",
      "tensor(2.6511)\n",
      "Epoca:63, Loss: 2.651,Acuracia:90.278\n",
      "tensor(2.6790)\n",
      "Epoca:64, Loss: 2.679,Acuracia:90.278\n",
      "tensor(2.6366)\n",
      "Epoca:65, Loss: 2.637,Acuracia:90.278\n",
      "tensor(2.5922)\n",
      "Epoca:66, Loss: 2.592,Acuracia:90.278\n",
      "tensor(2.6514)\n",
      "Epoca:67, Loss: 2.651,Acuracia:90.278\n",
      "tensor(2.5489)\n",
      "Epoca:68, Loss: 2.549,Acuracia:90.278\n",
      "tensor(2.6053)\n",
      "Epoca:69, Loss: 2.605,Acuracia:90.556\n",
      "tensor(2.5873)\n",
      "Epoca:70, Loss: 2.587,Acuracia:90.556\n",
      "tensor(2.7084)\n",
      "Epoca:71, Loss: 2.708,Acuracia:90.556\n",
      "tensor(2.6806)\n",
      "Epoca:72, Loss: 2.681,Acuracia:90.556\n",
      "tensor(2.5839)\n",
      "Epoca:73, Loss: 2.584,Acuracia:90.556\n",
      "tensor(2.6306)\n",
      "Epoca:74, Loss: 2.631,Acuracia:90.278\n",
      "tensor(2.6460)\n",
      "Epoca:75, Loss: 2.646,Acuracia:90.278\n",
      "tensor(2.6152)\n",
      "Epoca:76, Loss: 2.615,Acuracia:90.556\n",
      "tensor(2.6042)\n",
      "Epoca:77, Loss: 2.604,Acuracia:90.278\n",
      "tensor(2.6138)\n",
      "Epoca:78, Loss: 2.614,Acuracia:90.556\n",
      "tensor(2.5400)\n",
      "Epoca:79, Loss: 2.540,Acuracia:90.556\n",
      "tensor(2.5687)\n",
      "Epoca:80, Loss: 2.569,Acuracia:90.556\n",
      "tensor(2.5939)\n",
      "Epoca:81, Loss: 2.594,Acuracia:90.556\n",
      "tensor(2.5985)\n",
      "Epoca:82, Loss: 2.598,Acuracia:90.556\n",
      "tensor(2.5608)\n",
      "Epoca:83, Loss: 2.561,Acuracia:90.556\n",
      "tensor(2.4996)\n",
      "Epoca:84, Loss: 2.500,Acuracia:90.556\n",
      "tensor(2.5501)\n",
      "Epoca:85, Loss: 2.550,Acuracia:90.556\n",
      "tensor(2.5573)\n",
      "Epoca:86, Loss: 2.557,Acuracia:90.556\n",
      "tensor(2.5489)\n",
      "Epoca:87, Loss: 2.549,Acuracia:90.833\n",
      "tensor(2.5612)\n",
      "Epoca:88, Loss: 2.561,Acuracia:90.556\n",
      "tensor(2.5236)\n",
      "Epoca:89, Loss: 2.524,Acuracia:90.556\n",
      "tensor(2.5329)\n",
      "Epoca:90, Loss: 2.533,Acuracia:90.556\n",
      "tensor(2.5359)\n",
      "Epoca:91, Loss: 2.536,Acuracia:90.556\n",
      "tensor(2.4893)\n",
      "Epoca:92, Loss: 2.489,Acuracia:90.833\n",
      "tensor(2.5200)\n",
      "Epoca:93, Loss: 2.520,Acuracia:90.833\n",
      "tensor(2.5510)\n",
      "Epoca:94, Loss: 2.551,Acuracia:90.833\n",
      "tensor(2.5237)\n",
      "Epoca:95, Loss: 2.524,Acuracia:90.833\n",
      "tensor(2.4931)\n",
      "Epoca:96, Loss: 2.493,Acuracia:90.833\n",
      "tensor(2.4623)\n",
      "Epoca:97, Loss: 2.462,Acuracia:90.833\n",
      "tensor(2.5188)\n",
      "Epoca:98, Loss: 2.519,Acuracia:90.833\n",
      "tensor(2.5235)\n",
      "Epoca:99, Loss: 2.524,Acuracia:90.833\n"
     ]
    }
   ],
   "source": [
    "total_loss = 0\n",
    "for epoch in range(100): \n",
    "    model.train()\n",
    "    total_loss = 0\n",
    "    for data in trainset:  \n",
    "        X, y = data  \n",
    "\n",
    "        y = y.type(torch.LongTensor)\n",
    "        \n",
    "        optimizer.zero_grad()  \n",
    "        output = model(X)  \n",
    "        loss = loss_func(output, y)  \n",
    "        loss.backward()  \n",
    "        optimizer.step()  \n",
    "        total_loss += loss.data\n",
    "    print(total_loss)\n",
    "    if epoch % 1 == 0:\n",
    "        model.eval()\n",
    "        test_loss = 0\n",
    "        correct = 0\n",
    "        total = 0\n",
    "        with torch.no_grad():\n",
    "            for data in testset:\n",
    "                \n",
    "                X, labels = data\n",
    "                \n",
    "                outputs = model(X)\n",
    "        \n",
    "\n",
    "                _, predicted = torch.max(outputs.data, 1)\n",
    "                total += labels.size(0)\n",
    "\n",
    "\n",
    "                test_loss += (predicted !=labels).sum()\n",
    "                correct += (predicted == labels).sum()\n",
    "            accuracy = 100.0 * correct / total\n",
    "            train_losses.append(total_loss.item()/len(trainset))\n",
    "            test_losses.append(test_loss.item()/len(testset))\n",
    "\n",
    "            \n",
    "            print(f'Epoca:{epoch}, Loss: {total_loss.item():.3f},Acuracia:{accuracy.item():.3f}')"
   ]
  },
  {
   "cell_type": "code",
   "execution_count": 17,
   "metadata": {},
   "outputs": [
    {
     "data": {
      "image/png": "[encoded data removed]",
      "text/plain": [
       "<Figure size 432x288 with 1 Axes>"
      ]
     },
     "metadata": {
      "needs_background": "light"
     },
     "output_type": "display_data"
    },
    {
     "data": {
      "image/png": "[encoded data removed]",
      "text/plain": [
       "<Figure size 432x288 with 1 Axes>"
      ]
     },
     "metadata": {
      "needs_background": "light"
     },
     "output_type": "display_data"
    }
   ],
   "source": [
    "import matplotlib.pyplot as plt\n",
    "\n",
    "plt.plot(train_losses, label='Training loss')\n",
    "plt.legend(frameon=False)\n",
    "plt.show()\n",
    "\n",
    "plt.plot(test_losses, label='Validation loss', color = 'r')\n",
    "plt.legend(frameon=False)\n",
    "plt.show()"
   ]
  },
  {
   "cell_type": "markdown",
   "metadata": {},
   "source": [
    "Segunda questão"
   ]
  },
  {
   "cell_type": "code",
   "execution_count": 19,
   "metadata": {},
   "outputs": [
    {
     "name": "stdout",
     "output_type": "stream",
     "text": [
      "Downloading http://fashion-mnist.s3-website.eu-central-1.amazonaws.com/train-images-idx3-ubyte.gz to ./data/FashionMNIST/raw/train-images-idx3-ubyte.gz\n"
     ]
    },
    {
     "name": "stderr",
     "output_type": "stream",
     "text": [
      "100.0%"
     ]
    },
    {
     "name": "stdout",
     "output_type": "stream",
     "text": [
      "Extracting ./data/FashionMNIST/raw/train-images-idx3-ubyte.gz to ./data/FashionMNIST/raw\n",
      "Downloading http://fashion-mnist.s3-website.eu-central-1.amazonaws.com/train-labels-idx1-ubyte.gz to ./data/FashionMNIST/raw/train-labels-idx1-ubyte.gz\n"
     ]
    },
    {
     "name": "stderr",
     "output_type": "stream",
     "text": [
      "111.0%"
     ]
    },
    {
     "name": "stdout",
     "output_type": "stream",
     "text": [
      "Extracting ./data/FashionMNIST/raw/train-labels-idx1-ubyte.gz to ./data/FashionMNIST/raw\n",
      "Downloading http://fashion-mnist.s3-website.eu-central-1.amazonaws.com/t10k-images-idx3-ubyte.gz to ./data/FashionMNIST/raw/t10k-images-idx3-ubyte.gz\n"
     ]
    },
    {
     "name": "stderr",
     "output_type": "stream",
     "text": [
      "100.0%"
     ]
    },
    {
     "name": "stdout",
     "output_type": "stream",
     "text": [
      "Extracting ./data/FashionMNIST/raw/t10k-images-idx3-ubyte.gz to ./data/FashionMNIST/raw\n",
      "Downloading http://fashion-mnist.s3-website.eu-central-1.amazonaws.com/t10k-labels-idx1-ubyte.gz to ./data/FashionMNIST/raw/t10k-labels-idx1-ubyte.gz\n"
     ]
    },
    {
     "name": "stderr",
     "output_type": "stream",
     "text": [
      "159.1%/home/raul/.local/lib/python3.8/site-packages/torchvision/datasets/mnist.py:469: UserWarning: The given NumPy array is not writeable, and PyTorch does not support non-writeable tensors. This means you can write to the underlying (supposedly non-writeable) NumPy array using the tensor. You may want to copy the array to protect its data or make it writeable before converting it to a tensor. This type of warning will be suppressed for the rest of this program. (Triggered internally at  /pytorch/torch/csrc/utils/tensor_numpy.cpp:141.)\n",
      "  return torch.from_numpy(parsed.astype(m[2], copy=False)).view(*s)\n"
     ]
    },
    {
     "name": "stdout",
     "output_type": "stream",
     "text": [
      "Extracting ./data/FashionMNIST/raw/t10k-labels-idx1-ubyte.gz to ./data/FashionMNIST/raw\n",
      "Processing...\n",
      "Done!\n"
     ]
    }
   ],
   "source": [
    "train_dataset = datasets.FashionMNIST(root='./data',\n",
    "                                   train=True,\n",
    "                                   transform=transforms.ToTensor(),\n",
    "                                   download=True)\n",
    "\n",
    "test_dataset = datasets.FashionMNIST(root='./data',\n",
    "                                  train=False,\n",
    "                                  transform=transforms.ToTensor())"
   ]
  },
  {
   "cell_type": "code",
   "execution_count": 20,
   "metadata": {},
   "outputs": [],
   "source": [
    "batch_size = 64 \n",
    "\n",
    "train_loader = torch.utils.data.DataLoader(dataset=train_dataset,\n",
    "                                           batch_size=batch_size,\n",
    "                                           shuffle=True)\n",
    "\n",
    "test_loader = torch.utils.data.DataLoader(dataset=train_dataset,\n",
    "                                          batch_size=batch_size,\n",
    "                                          shuffle=False)"
   ]
  },
  {
   "cell_type": "code",
   "execution_count": 21,
   "metadata": {},
   "outputs": [],
   "source": [
    "input_dim = 28*28\n",
    "output_dim = 10\n",
    "hidden_dim = 100\n",
    "\n",
    "model = FeedForward(input_dim, hidden_dim, output_dim)\n",
    "\n",
    "\n",
    "loss_func = nn.CrossEntropyLoss()\n",
    "learning_rate = 0.01\n",
    "optimizer = torch.optim.SGD(model.parameters(), lr = 0.01)\n",
    "losses = []"
   ]
  },
  {
   "cell_type": "code",
   "execution_count": 22,
   "metadata": {},
   "outputs": [
    {
     "name": "stdout",
     "output_type": "stream",
     "text": [
      "Epoca:0, Loss: 1067.680,Acuracia:73.482\n",
      "Epoca:1, Loss: 626.462,Acuracia:79.012\n",
      "Epoca:2, Loss: 537.831,Acuracia:81.550\n",
      "Epoca:3, Loss: 494.307,Acuracia:81.760\n",
      "Epoca:4, Loss: 468.671,Acuracia:83.285\n",
      "Epoca:5, Loss: 450.667,Acuracia:81.718\n",
      "Epoca:6, Loss: 438.185,Acuracia:83.408\n",
      "Epoca:7, Loss: 427.155,Acuracia:83.895\n",
      "Epoca:8, Loss: 418.291,Acuracia:84.610\n",
      "Epoca:9, Loss: 411.041,Acuracia:85.042\n",
      "Epoca:10, Loss: 405.132,Acuracia:85.278\n",
      "Epoca:11, Loss: 398.867,Acuracia:85.402\n",
      "Epoca:12, Loss: 393.495,Acuracia:85.408\n",
      "Epoca:13, Loss: 388.108,Acuracia:85.880\n",
      "Epoca:14, Loss: 383.459,Acuracia:85.755\n",
      "Epoca:15, Loss: 379.168,Acuracia:85.702\n",
      "Epoca:16, Loss: 374.543,Acuracia:86.047\n",
      "Epoca:17, Loss: 370.905,Acuracia:86.480\n",
      "Epoca:18, Loss: 366.794,Acuracia:86.483\n",
      "Epoca:19, Loss: 363.159,Acuracia:86.490\n",
      "Epoca:20, Loss: 359.718,Acuracia:86.858\n",
      "Epoca:21, Loss: 356.625,Acuracia:86.983\n",
      "Epoca:22, Loss: 353.074,Acuracia:86.903\n",
      "Epoca:23, Loss: 350.371,Acuracia:87.338\n",
      "Epoca:24, Loss: 347.686,Acuracia:87.062\n",
      "Epoca:25, Loss: 344.997,Acuracia:87.238\n",
      "Epoca:26, Loss: 341.821,Acuracia:87.492\n",
      "Epoca:27, Loss: 338.930,Acuracia:87.345\n",
      "Epoca:28, Loss: 336.996,Acuracia:87.537\n",
      "Epoca:29, Loss: 334.437,Acuracia:87.513\n",
      "Epoca:30, Loss: 331.867,Acuracia:87.853\n",
      "Epoca:31, Loss: 329.135,Acuracia:87.817\n",
      "Epoca:32, Loss: 326.554,Acuracia:87.763\n",
      "Epoca:33, Loss: 324.596,Acuracia:87.053\n",
      "Epoca:34, Loss: 322.250,Acuracia:88.067\n",
      "Epoca:35, Loss: 320.193,Acuracia:88.197\n",
      "Epoca:36, Loss: 318.577,Acuracia:88.363\n",
      "Epoca:37, Loss: 316.436,Acuracia:88.320\n",
      "Epoca:38, Loss: 314.189,Acuracia:88.255\n",
      "Epoca:39, Loss: 312.539,Acuracia:88.398\n",
      "Epoca:40, Loss: 310.361,Acuracia:88.638\n",
      "Epoca:41, Loss: 308.076,Acuracia:88.625\n",
      "Epoca:42, Loss: 306.636,Acuracia:88.720\n",
      "Epoca:43, Loss: 305.625,Acuracia:88.700\n",
      "Epoca:44, Loss: 303.463,Acuracia:88.847\n",
      "Epoca:45, Loss: 302.260,Acuracia:88.787\n",
      "Epoca:46, Loss: 300.075,Acuracia:88.840\n",
      "Epoca:47, Loss: 299.148,Acuracia:88.468\n",
      "Epoca:48, Loss: 297.099,Acuracia:89.103\n",
      "Epoca:49, Loss: 295.442,Acuracia:88.793\n"
     ]
    }
   ],
   "source": [
    "for epoch in range(50):\n",
    "    model.train()\n",
    "    total_loss = 0\n",
    "    for i, (images, labels) in enumerate(train_loader):\n",
    "        images = images.view(-1,28*28)\n",
    "        labels = labels\n",
    "        \n",
    "        optimizer.zero_grad()\n",
    "        \n",
    "        outputs = model(images)\n",
    "        \n",
    "        loss = loss_func(outputs, labels)\n",
    "        \n",
    "        loss.backward()\n",
    "        total_loss += loss\n",
    "        optimizer.step()\n",
    "        \n",
    "    if epoch % 1 == 0:\n",
    "        model.eval()\n",
    "        correct = 0\n",
    "        total = 0\n",
    "        with torch.no_grad():\n",
    "            for images, labels in test_loader:\n",
    "                \n",
    "                images = images.view(-1, 28*28)\n",
    "                \n",
    "                outputs = model(images)\n",
    "                \n",
    "                _, predicted = torch.max(outputs.data, 1)\n",
    "                total += labels.size(0)\n",
    "                \n",
    "                correct += (predicted == labels).sum()\n",
    "            accuracy = 100.0 * correct / total\n",
    "            losses.append(total_loss.item())\n",
    "            print(f'Epoca:{epoch}, Loss: {total_loss.item():.3f},Acuracia:{accuracy.item():.3f}')"
   ]
  },
  {
   "cell_type": "code",
   "execution_count": 23,
   "metadata": {},
   "outputs": [
    {
     "data": {
      "image/png": "[encoded data removed]",
      "text/plain": [
       "<Figure size 432x288 with 1 Axes>"
      ]
     },
     "metadata": {
      "needs_background": "light"
     },
     "output_type": "display_data"
    }
   ],
   "source": [
    "plt.plot(losses, label='loss')\n",
    "plt.legend(frameon=False)\n",
    "plt.show()"
   ]
  },
  {
   "cell_type": "code",
   "execution_count": null,
   "metadata": {},
   "outputs": [],
   "source": []
  }
 ],
 "metadata": {
  "kernelspec": {
   "display_name": "Python 3",
   "language": "python",
   "name": "python3"
  },
  "language_info": {
   "codemirror_mode": {
    "name": "ipython",
    "version": 3
   },
   "file_extension": ".py",
   "mimetype": "text/x-python",
   "name": "python",
   "nbconvert_exporter": "python",
   "pygments_lexer": "ipython3",
   "version": "3.8.5"
  }
 },
 "nbformat": 4,
 "nbformat_minor": 4
}
