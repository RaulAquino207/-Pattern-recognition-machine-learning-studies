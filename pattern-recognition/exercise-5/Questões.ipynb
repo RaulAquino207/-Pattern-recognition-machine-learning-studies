{
 "cells": [
  {
   "cell_type": "markdown",
   "metadata": {},
   "source": [
    "Primeira questão"
   ]
  },
  {
   "cell_type": "code",
   "execution_count": 1,
   "metadata": {},
   "outputs": [],
   "source": [
    "import numpy as np\n",
    "import torch\n",
    "import torch.nn as nn\n",
    "import torchvision.transforms as transforms\n",
    "import torchvision.datasets as datasets\n",
    "from torch.nn import functional as F"
   ]
  },
  {
   "cell_type": "code",
   "execution_count": 2,
   "metadata": {},
   "outputs": [],
   "source": [
    "class FeedForward(nn.Module):\n",
    "\n",
    "\n",
    "    def __init__(self,input_dim, hidden_dim, num_classes):\n",
    "        super().__init__()\n",
    "        self.fc1 = nn.Linear(input_dim, hidden_dim)\n",
    "        self.fc2 = nn.Linear(hidden_dim, num_classes)\n",
    "    def forward(self, x):\n",
    "        out = self.fc1(x)\n",
    "        out = F.relu(out)\n",
    "        out = self.fc2(out)\n",
    "        return out"
   ]
  },
  {
   "cell_type": "code",
   "execution_count": 3,
   "metadata": {},
   "outputs": [],
   "source": [
    "from sklearn.model_selection import train_test_split\n",
    "dset_1questao = np.genfromtxt('dados-ex5.txt',delimiter=',')\n",
    "dset_1questao = torch.from_numpy(dset_1questao)\n",
    "dset_1questao.shape\n",
    "\n",
    "x = dset_1questao[:,:-1]\n",
    "y = dset_1questao[:,-1]\n",
    "\n",
    "x = torch.FloatTensor(x.float())\n",
    "y = torch.FloatTensor(y.float())\n",
    "\n",
    "X_train, X_test, Y_train, Y_test = train_test_split(x, y, test_size=0.4, random_state=100)\n",
    "\n",
    "input = 2\n",
    "\n",
    "output = 10\n",
    "hidden = 100\n",
    "\n",
    "model = FeedForward(input, hidden,output)"
   ]
  },
  {
   "cell_type": "code",
   "execution_count": 4,
   "metadata": {},
   "outputs": [
    {
     "name": "stderr",
     "output_type": "stream",
     "text": [
      "<ipython-input-4-dd2a5cd346bf>:4: UserWarning: To copy construct from a tensor, it is recommended to use sourceTensor.clone().detach() or sourceTensor.clone().detach().requires_grad_(True), rather than torch.tensor(sourceTensor).\n",
      "  train_ds = torch.utils.data.TensorDataset(torch.tensor(X_train), torch.tensor(Y_train))\n",
      "<ipython-input-4-dd2a5cd346bf>:5: UserWarning: To copy construct from a tensor, it is recommended to use sourceTensor.clone().detach() or sourceTensor.clone().detach().requires_grad_(True), rather than torch.tensor(sourceTensor).\n",
      "  test_ds = torch.utils.data.TensorDataset(torch.tensor(X_test), torch.tensor(Y_test))\n"
     ]
    }
   ],
   "source": [
    "batch_size = 64\n",
    "\n",
    "\n",
    "train_ds = torch.utils.data.TensorDataset(torch.tensor(X_train), torch.tensor(Y_train))\n",
    "test_ds = torch.utils.data.TensorDataset(torch.tensor(X_test), torch.tensor(Y_test))\n",
    "\n",
    "trainset = torch.utils.data.DataLoader(train_ds, batch_size=batch_size, shuffle=True)\n",
    "testset = torch.utils.data.DataLoader(test_ds, batch_size=360, shuffle=True)"
   ]
  },
  {
   "cell_type": "code",
   "execution_count": 5,
   "metadata": {},
   "outputs": [],
   "source": [
    "loss_func = nn.CrossEntropyLoss()\n",
    "learning_rate = 0.01\n",
    "optimizer = torch.optim.SGD(model.parameters(), lr = 0.01)"
   ]
  },
  {
   "cell_type": "code",
   "execution_count": 6,
   "metadata": {},
   "outputs": [
    {
     "name": "stderr",
     "output_type": "stream",
     "text": [
      "/home/raul/.local/lib/python3.8/site-packages/sklearn/neural_network/_multilayer_perceptron.py:582: ConvergenceWarning: Stochastic Optimizer: Maximum iterations (400) reached and the optimization hasn't converged yet.\n",
      "  warnings.warn(\n"
     ]
    },
    {
     "data": {
      "text/plain": [
       "0.9861111111111112"
      ]
     },
     "execution_count": 6,
     "metadata": {},
     "output_type": "execute_result"
    }
   ],
   "source": [
    "from sklearn.neural_network import MLPClassifier\n",
    "clf = MLPClassifier(random_state=100, max_iter=400).fit(X_train, Y_train)\n",
    "clf.predict_proba(X_test[:,:])\n",
    "clf.score(X_test, Y_test)"
   ]
  },
  {
   "cell_type": "code",
   "execution_count": 7,
   "metadata": {},
   "outputs": [
    {
     "data": {
      "text/plain": [
       "torch.Size([360])"
      ]
     },
     "execution_count": 7,
     "metadata": {},
     "output_type": "execute_result"
    }
   ],
   "source": [
    "train_losses, test_losses = [], []\n",
    "Y_test.shape"
   ]
  },
  {
   "cell_type": "code",
   "execution_count": 8,
   "metadata": {},
   "outputs": [
    {
     "name": "stdout",
     "output_type": "stream",
     "text": [
      "tensor(20.2067)\n",
      "Epoca:0, Loss: 20.207,Acuracia:69.444\n",
      "tensor(15.9561)\n",
      "Epoca:1, Loss: 15.956,Acuracia:82.778\n",
      "tensor(12.8035)\n",
      "Epoca:2, Loss: 12.803,Acuracia:83.056\n",
      "tensor(10.6462)\n",
      "Epoca:3, Loss: 10.646,Acuracia:83.056\n",
      "tensor(9.0708)\n",
      "Epoca:4, Loss: 9.071,Acuracia:83.056\n",
      "tensor(7.8752)\n",
      "Epoca:5, Loss: 7.875,Acuracia:83.333\n",
      "tensor(7.1662)\n",
      "Epoca:6, Loss: 7.166,Acuracia:83.611\n",
      "tensor(6.5009)\n",
      "Epoca:7, Loss: 6.501,Acuracia:84.722\n",
      "tensor(6.0290)\n",
      "Epoca:8, Loss: 6.029,Acuracia:85.000\n",
      "tensor(5.6487)\n",
      "Epoca:9, Loss: 5.649,Acuracia:85.000\n",
      "tensor(5.3098)\n",
      "Epoca:10, Loss: 5.310,Acuracia:85.000\n",
      "tensor(5.0920)\n",
      "Epoca:11, Loss: 5.092,Acuracia:85.000\n",
      "tensor(4.8303)\n",
      "Epoca:12, Loss: 4.830,Acuracia:85.278\n",
      "tensor(4.6406)\n",
      "Epoca:13, Loss: 4.641,Acuracia:85.556\n",
      "tensor(4.4478)\n",
      "Epoca:14, Loss: 4.448,Acuracia:85.556\n",
      "tensor(4.4197)\n",
      "Epoca:15, Loss: 4.420,Acuracia:85.833\n",
      "tensor(4.2162)\n",
      "Epoca:16, Loss: 4.216,Acuracia:85.833\n",
      "tensor(4.1628)\n",
      "Epoca:17, Loss: 4.163,Acuracia:85.833\n",
      "tensor(4.1123)\n",
      "Epoca:18, Loss: 4.112,Acuracia:86.111\n",
      "tensor(3.9521)\n",
      "Epoca:19, Loss: 3.952,Acuracia:86.111\n",
      "tensor(3.9134)\n",
      "Epoca:20, Loss: 3.913,Acuracia:86.389\n",
      "tensor(3.8303)\n",
      "Epoca:21, Loss: 3.830,Acuracia:86.667\n",
      "tensor(3.8163)\n",
      "Epoca:22, Loss: 3.816,Acuracia:86.667\n",
      "tensor(3.6610)\n",
      "Epoca:23, Loss: 3.661,Acuracia:86.944\n",
      "tensor(3.6884)\n",
      "Epoca:24, Loss: 3.688,Acuracia:86.944\n",
      "tensor(3.5916)\n",
      "Epoca:25, Loss: 3.592,Acuracia:86.944\n",
      "tensor(3.6518)\n",
      "Epoca:26, Loss: 3.652,Acuracia:87.500\n",
      "tensor(3.4750)\n",
      "Epoca:27, Loss: 3.475,Acuracia:87.500\n",
      "tensor(3.5125)\n",
      "Epoca:28, Loss: 3.512,Acuracia:87.222\n",
      "tensor(3.3631)\n",
      "Epoca:29, Loss: 3.363,Acuracia:87.222\n",
      "tensor(3.4018)\n",
      "Epoca:30, Loss: 3.402,Acuracia:87.500\n",
      "tensor(3.3908)\n",
      "Epoca:31, Loss: 3.391,Acuracia:88.056\n",
      "tensor(3.2511)\n",
      "Epoca:32, Loss: 3.251,Acuracia:88.056\n",
      "tensor(3.3138)\n",
      "Epoca:33, Loss: 3.314,Acuracia:88.333\n",
      "tensor(3.2393)\n",
      "Epoca:34, Loss: 3.239,Acuracia:88.056\n",
      "tensor(3.2815)\n",
      "Epoca:35, Loss: 3.281,Acuracia:88.056\n",
      "tensor(3.2155)\n",
      "Epoca:36, Loss: 3.216,Acuracia:88.056\n",
      "tensor(3.2115)\n",
      "Epoca:37, Loss: 3.212,Acuracia:88.056\n",
      "tensor(3.1182)\n",
      "Epoca:38, Loss: 3.118,Acuracia:88.056\n",
      "tensor(3.2228)\n",
      "Epoca:39, Loss: 3.223,Acuracia:87.778\n",
      "tensor(3.1539)\n",
      "Epoca:40, Loss: 3.154,Acuracia:87.778\n",
      "tensor(3.2528)\n",
      "Epoca:41, Loss: 3.253,Acuracia:88.056\n",
      "tensor(3.1236)\n",
      "Epoca:42, Loss: 3.124,Acuracia:88.056\n",
      "tensor(3.0401)\n",
      "Epoca:43, Loss: 3.040,Acuracia:88.056\n",
      "tensor(3.0673)\n",
      "Epoca:44, Loss: 3.067,Acuracia:88.056\n",
      "tensor(3.1022)\n",
      "Epoca:45, Loss: 3.102,Acuracia:88.611\n",
      "tensor(2.9485)\n",
      "Epoca:46, Loss: 2.948,Acuracia:88.611\n",
      "tensor(3.0704)\n",
      "Epoca:47, Loss: 3.070,Acuracia:88.889\n",
      "tensor(2.9566)\n",
      "Epoca:48, Loss: 2.957,Acuracia:89.167\n",
      "tensor(2.9491)\n",
      "Epoca:49, Loss: 2.949,Acuracia:89.444\n",
      "tensor(3.0631)\n",
      "Epoca:50, Loss: 3.063,Acuracia:89.722\n",
      "tensor(2.9692)\n",
      "Epoca:51, Loss: 2.969,Acuracia:89.444\n",
      "tensor(2.9441)\n",
      "Epoca:52, Loss: 2.944,Acuracia:89.444\n",
      "tensor(3.0010)\n",
      "Epoca:53, Loss: 3.001,Acuracia:89.444\n",
      "tensor(2.8881)\n",
      "Epoca:54, Loss: 2.888,Acuracia:89.444\n",
      "tensor(2.9236)\n",
      "Epoca:55, Loss: 2.924,Acuracia:89.444\n",
      "tensor(2.9482)\n",
      "Epoca:56, Loss: 2.948,Acuracia:89.444\n",
      "tensor(2.8683)\n",
      "Epoca:57, Loss: 2.868,Acuracia:89.722\n",
      "tensor(2.9353)\n",
      "Epoca:58, Loss: 2.935,Acuracia:90.278\n",
      "tensor(2.8342)\n",
      "Epoca:59, Loss: 2.834,Acuracia:90.278\n",
      "tensor(2.9332)\n",
      "Epoca:60, Loss: 2.933,Acuracia:90.278\n",
      "tensor(2.8875)\n",
      "Epoca:61, Loss: 2.888,Acuracia:90.278\n",
      "tensor(2.8380)\n",
      "Epoca:62, Loss: 2.838,Acuracia:90.278\n",
      "tensor(2.8251)\n",
      "Epoca:63, Loss: 2.825,Acuracia:90.278\n",
      "tensor(2.8305)\n",
      "Epoca:64, Loss: 2.831,Acuracia:90.556\n",
      "tensor(2.9211)\n",
      "Epoca:65, Loss: 2.921,Acuracia:90.556\n",
      "tensor(2.7697)\n",
      "Epoca:66, Loss: 2.770,Acuracia:90.556\n",
      "tensor(2.8109)\n",
      "Epoca:67, Loss: 2.811,Acuracia:90.556\n",
      "tensor(2.8008)\n",
      "Epoca:68, Loss: 2.801,Acuracia:90.556\n",
      "tensor(2.8322)\n",
      "Epoca:69, Loss: 2.832,Acuracia:90.556\n",
      "tensor(2.7447)\n",
      "Epoca:70, Loss: 2.745,Acuracia:90.556\n",
      "tensor(2.7827)\n",
      "Epoca:71, Loss: 2.783,Acuracia:90.556\n",
      "tensor(2.7853)\n",
      "Epoca:72, Loss: 2.785,Acuracia:90.556\n",
      "tensor(2.7745)\n",
      "Epoca:73, Loss: 2.774,Acuracia:90.556\n",
      "tensor(2.7122)\n",
      "Epoca:74, Loss: 2.712,Acuracia:90.556\n",
      "tensor(2.7713)\n",
      "Epoca:75, Loss: 2.771,Acuracia:90.833\n",
      "tensor(2.6952)\n",
      "Epoca:76, Loss: 2.695,Acuracia:90.833\n",
      "tensor(2.7270)\n",
      "Epoca:77, Loss: 2.727,Acuracia:90.556\n",
      "tensor(2.6400)\n",
      "Epoca:78, Loss: 2.640,Acuracia:90.556\n",
      "tensor(2.8211)\n",
      "Epoca:79, Loss: 2.821,Acuracia:90.833\n",
      "tensor(2.6766)\n",
      "Epoca:80, Loss: 2.677,Acuracia:90.833\n",
      "tensor(2.8107)\n",
      "Epoca:81, Loss: 2.811,Acuracia:90.833\n",
      "tensor(2.6459)\n",
      "Epoca:82, Loss: 2.646,Acuracia:91.111\n",
      "tensor(2.6729)\n",
      "Epoca:83, Loss: 2.673,Acuracia:91.389\n",
      "tensor(2.6174)\n",
      "Epoca:84, Loss: 2.617,Acuracia:91.111\n",
      "tensor(2.7102)\n",
      "Epoca:85, Loss: 2.710,Acuracia:91.111\n",
      "tensor(2.7546)\n",
      "Epoca:86, Loss: 2.755,Acuracia:91.111\n",
      "tensor(2.7329)\n",
      "Epoca:87, Loss: 2.733,Acuracia:91.111\n",
      "tensor(2.7030)\n",
      "Epoca:88, Loss: 2.703,Acuracia:91.111\n",
      "tensor(2.7266)\n",
      "Epoca:89, Loss: 2.727,Acuracia:91.111\n",
      "tensor(2.6761)\n",
      "Epoca:90, Loss: 2.676,Acuracia:91.389\n",
      "tensor(2.6809)\n",
      "Epoca:91, Loss: 2.681,Acuracia:91.111\n",
      "tensor(2.6023)\n",
      "Epoca:92, Loss: 2.602,Acuracia:91.111\n",
      "tensor(2.5899)\n",
      "Epoca:93, Loss: 2.590,Acuracia:91.111\n",
      "tensor(2.7130)\n",
      "Epoca:94, Loss: 2.713,Acuracia:91.111\n",
      "tensor(2.5760)\n",
      "Epoca:95, Loss: 2.576,Acuracia:91.111\n",
      "tensor(2.6208)\n",
      "Epoca:96, Loss: 2.621,Acuracia:91.111\n",
      "tensor(2.6105)\n",
      "Epoca:97, Loss: 2.610,Acuracia:91.111\n",
      "tensor(2.5947)\n",
      "Epoca:98, Loss: 2.595,Acuracia:91.111\n",
      "tensor(2.5708)\n",
      "Epoca:99, Loss: 2.571,Acuracia:91.111\n"
     ]
    }
   ],
   "source": [
    "total_loss = 0\n",
    "for epoch in range(100): \n",
    "    model.train()\n",
    "    total_loss = 0\n",
    "    for data in trainset:  \n",
    "        X, y = data  \n",
    "\n",
    "        y = y.type(torch.LongTensor)\n",
    "        \n",
    "        optimizer.zero_grad()  \n",
    "        output = model(X)  \n",
    "        loss = loss_func(output, y)  \n",
    "        loss.backward()  \n",
    "        optimizer.step()  \n",
    "        total_loss += loss.data\n",
    "    print(total_loss)\n",
    "    if epoch % 1 == 0:\n",
    "        model.eval()\n",
    "        test_loss = 0\n",
    "        correct = 0\n",
    "        total = 0\n",
    "        with torch.no_grad():\n",
    "            for data in testset:\n",
    "                \n",
    "                X, labels = data\n",
    "                \n",
    "                outputs = model(X)\n",
    "        \n",
    "\n",
    "                _, predicted = torch.max(outputs.data, 1)\n",
    "                total += labels.size(0)\n",
    "\n",
    "\n",
    "                test_loss += (predicted !=labels).sum()\n",
    "                correct += (predicted == labels).sum()\n",
    "            accuracy = 100.0 * correct / total\n",
    "            train_losses.append(total_loss.item()/len(trainset))\n",
    "            test_losses.append(test_loss.item()/len(testset))\n",
    "\n",
    "            \n",
    "            print(f'Epoca:{epoch}, Loss: {total_loss.item():.3f},Acuracia:{accuracy.item():.3f}')"
   ]
  },
  {
   "cell_type": "code",
   "execution_count": 9,
   "metadata": {},
   "outputs": [
    {
     "data": {
      "image/png": "[encoded data removed]",
      "text/plain": [
       "<Figure size 432x288 with 1 Axes>"
      ]
     },
     "metadata": {
      "needs_background": "light"
     },
     "output_type": "display_data"
    },
    {
     "data": {
      "image/png": "[encoded data removed]",
      "text/plain": [
       "<Figure size 432x288 with 1 Axes>"
      ]
     },
     "metadata": {
      "needs_background": "light"
     },
     "output_type": "display_data"
    }
   ],
   "source": [
    "import matplotlib.pyplot as plt\n",
    "\n",
    "plt.plot(train_losses, label='Training loss')\n",
    "plt.legend(frameon=False)\n",
    "plt.show()\n",
    "\n",
    "plt.plot(test_losses, label='Validation loss', color = 'r')\n",
    "plt.legend(frameon=False)\n",
    "plt.show()"
   ]
  },
  {
   "cell_type": "markdown",
   "metadata": {},
   "source": [
    "Segunda questão"
   ]
  },
  {
   "cell_type": "code",
   "execution_count": 10,
   "metadata": {},
   "outputs": [],
   "source": [
    "train_dataset = datasets.FashionMNIST(root='./data',\n",
    "                                   train=True,\n",
    "                                   transform=transforms.ToTensor(),\n",
    "                                   download=True)\n",
    "\n",
    "test_dataset = datasets.FashionMNIST(root='./data',\n",
    "                                  train=False,\n",
    "                                  transform=transforms.ToTensor())"
   ]
  },
  {
   "cell_type": "code",
   "execution_count": 11,
   "metadata": {},
   "outputs": [],
   "source": [
    "batch_size = 64 \n",
    "\n",
    "train_loader = torch.utils.data.DataLoader(dataset=train_dataset,\n",
    "                                           batch_size=batch_size,\n",
    "                                           shuffle=True)\n",
    "\n",
    "test_loader = torch.utils.data.DataLoader(dataset=train_dataset,\n",
    "                                          batch_size=batch_size,\n",
    "                                          shuffle=False)"
   ]
  },
  {
   "cell_type": "code",
   "execution_count": 12,
   "metadata": {},
   "outputs": [],
   "source": [
    "input_dim = 28*28\n",
    "output_dim = 10\n",
    "hidden_dim = 100\n",
    "\n",
    "model = FeedForward(input_dim, hidden_dim, output_dim)\n",
    "\n",
    "\n",
    "loss_func = nn.CrossEntropyLoss()\n",
    "learning_rate = 0.01\n",
    "optimizer = torch.optim.SGD(model.parameters(), lr = 0.01)\n",
    "losses = []"
   ]
  },
  {
   "cell_type": "code",
   "execution_count": 13,
   "metadata": {},
   "outputs": [
    {
     "name": "stdout",
     "output_type": "stream",
     "text": [
      "Epoca:0, Loss: 1071.097,Acuracia:74.010\n",
      "Epoca:1, Loss: 630.439,Acuracia:79.445\n",
      "Epoca:2, Loss: 540.571,Acuracia:81.957\n",
      "Epoca:3, Loss: 496.563,Acuracia:82.785\n",
      "Epoca:4, Loss: 469.910,Acuracia:83.275\n",
      "Epoca:5, Loss: 451.907,Acuracia:83.980\n",
      "Epoca:6, Loss: 438.393,Acuracia:84.238\n",
      "Epoca:7, Loss: 426.958,Acuracia:83.992\n",
      "Epoca:8, Loss: 418.577,Acuracia:84.845\n",
      "Epoca:9, Loss: 410.959,Acuracia:85.140\n",
      "Epoca:10, Loss: 404.147,Acuracia:85.020\n",
      "Epoca:11, Loss: 398.251,Acuracia:85.612\n",
      "Epoca:12, Loss: 392.450,Acuracia:85.537\n",
      "Epoca:13, Loss: 386.792,Acuracia:85.380\n",
      "Epoca:14, Loss: 382.461,Acuracia:85.717\n",
      "Epoca:15, Loss: 377.798,Acuracia:86.048\n",
      "Epoca:16, Loss: 374.280,Acuracia:86.275\n",
      "Epoca:17, Loss: 369.974,Acuracia:86.450\n",
      "Epoca:18, Loss: 366.772,Acuracia:86.693\n",
      "Epoca:19, Loss: 362.928,Acuracia:86.615\n",
      "Epoca:20, Loss: 360.123,Acuracia:86.395\n",
      "Epoca:21, Loss: 356.229,Acuracia:86.613\n",
      "Epoca:22, Loss: 353.753,Acuracia:86.967\n",
      "Epoca:23, Loss: 350.825,Acuracia:86.980\n",
      "Epoca:24, Loss: 347.416,Acuracia:87.197\n",
      "Epoca:25, Loss: 344.610,Acuracia:87.245\n",
      "Epoca:26, Loss: 342.045,Acuracia:87.075\n",
      "Epoca:27, Loss: 339.848,Acuracia:87.235\n",
      "Epoca:28, Loss: 336.395,Acuracia:87.412\n",
      "Epoca:29, Loss: 335.055,Acuracia:87.492\n",
      "Epoca:30, Loss: 332.353,Acuracia:87.553\n",
      "Epoca:31, Loss: 329.754,Acuracia:87.638\n",
      "Epoca:32, Loss: 327.509,Acuracia:87.738\n",
      "Epoca:33, Loss: 326.053,Acuracia:87.642\n",
      "Epoca:34, Loss: 323.210,Acuracia:87.885\n",
      "Epoca:35, Loss: 321.197,Acuracia:87.942\n",
      "Epoca:36, Loss: 319.127,Acuracia:88.195\n",
      "Epoca:37, Loss: 316.359,Acuracia:88.407\n",
      "Epoca:38, Loss: 315.173,Acuracia:88.398\n",
      "Epoca:39, Loss: 312.841,Acuracia:88.410\n",
      "Epoca:40, Loss: 311.343,Acuracia:88.442\n",
      "Epoca:41, Loss: 309.583,Acuracia:88.610\n",
      "Epoca:42, Loss: 307.615,Acuracia:88.020\n",
      "Epoca:43, Loss: 306.120,Acuracia:88.668\n",
      "Epoca:44, Loss: 304.095,Acuracia:88.355\n",
      "Epoca:45, Loss: 302.755,Acuracia:88.783\n",
      "Epoca:46, Loss: 300.834,Acuracia:87.845\n",
      "Epoca:47, Loss: 299.571,Acuracia:88.700\n",
      "Epoca:48, Loss: 297.793,Acuracia:88.763\n",
      "Epoca:49, Loss: 296.255,Acuracia:88.700\n"
     ]
    }
   ],
   "source": [
    "for epoch in range(50):\n",
    "    model.train()\n",
    "    total_loss = 0\n",
    "    for i, (images, labels) in enumerate(train_loader):\n",
    "        images = images.view(-1,28*28)\n",
    "        labels = labels\n",
    "        \n",
    "        optimizer.zero_grad()\n",
    "        \n",
    "        outputs = model(images)\n",
    "        \n",
    "        loss = loss_func(outputs, labels)\n",
    "        \n",
    "        loss.backward()\n",
    "        total_loss += loss\n",
    "        optimizer.step()\n",
    "        \n",
    "    if epoch % 1 == 0:\n",
    "        model.eval()\n",
    "        correct = 0\n",
    "        total = 0\n",
    "        with torch.no_grad():\n",
    "            for images, labels in test_loader:\n",
    "                \n",
    "                images = images.view(-1, 28*28)\n",
    "                \n",
    "                outputs = model(images)\n",
    "                \n",
    "                _, predicted = torch.max(outputs.data, 1)\n",
    "                total += labels.size(0)\n",
    "                \n",
    "                correct += (predicted == labels).sum()\n",
    "            accuracy = 100.0 * correct / total\n",
    "            losses.append(total_loss.item())\n",
    "            print(f'Epoca:{epoch}, Loss: {total_loss.item():.3f},Acuracia:{accuracy.item():.3f}')"
   ]
  },
  {
   "cell_type": "code",
   "execution_count": 14,
   "metadata": {},
   "outputs": [
    {
     "data": {
      "image/png": "[encoded data removed]",
      "text/plain": [
       "<Figure size 432x288 with 1 Axes>"
      ]
     },
     "metadata": {
      "needs_background": "light"
     },
     "output_type": "display_data"
    }
   ],
   "source": [
    "plt.plot(losses, label='loss')\n",
    "plt.legend(frameon=False)\n",
    "plt.show()"
   ]
  },
  {
   "cell_type": "code",
   "execution_count": null,
   "metadata": {},
   "outputs": [],
   "source": []
  }
 ],
 "metadata": {
  "kernelspec": {
   "display_name": "Python 3",
   "language": "python",
   "name": "python3"
  },
  "language_info": {
   "codemirror_mode": {
    "name": "ipython",
    "version": 3
   },
   "file_extension": ".py",
   "mimetype": "text/x-python",
   "name": "python",
   "nbconvert_exporter": "python",
   "pygments_lexer": "ipython3",
   "version": "3.7.6"
  }
 },
 "nbformat": 4,
 "nbformat_minor": 4
}
