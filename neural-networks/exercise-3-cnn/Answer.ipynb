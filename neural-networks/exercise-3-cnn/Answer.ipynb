{
 "cells": [
  {
   "cell_type": "markdown",
   "metadata": {},
   "source": [
    "## Equipe : Raul Aquino e Wendell"
   ]
  },
  {
   "cell_type": "markdown",
   "metadata": {},
   "source": [
    "## Questão 1"
   ]
  },
  {
   "cell_type": "code",
   "execution_count": 25,
   "metadata": {},
   "outputs": [],
   "source": [
    "# Imports.\n",
    "import pandas as pd\n",
    "import numpy as np\n",
    "import matplotlib.pyplot as plt\n",
    "import tensorflow as tf\n",
    "from keras.models import Sequential\n",
    "from keras.layers import Dense\n",
    "from keras.utils import to_categorical\n",
    "from tensorflow.keras.layers import Flatten, Activation, Conv2D, MaxPool2D, Dense\n",
    "from tensorflow.keras import backend\n",
    "from sklearn.model_selection import train_test_split"
   ]
  },
  {
   "cell_type": "markdown",
   "metadata": {},
   "source": [
    "# MNIST"
   ]
  },
  {
   "cell_type": "code",
   "execution_count": 2,
   "metadata": {},
   "outputs": [
    {
     "name": "stdout",
     "output_type": "stream",
     "text": [
      "(60000, 28, 28)\n",
      "(10000, 28, 28)\n"
     ]
    }
   ],
   "source": [
    "# Import dataset from keras.\n",
    "from keras.datasets import mnist\n",
    "\n",
    "# Loading training and test data.\n",
    "(X_train, y_train), (X_test, y_test) = mnist.load_data()\n",
    "print(X_train.shape)\n",
    "print(X_test.shape)"
   ]
  },
  {
   "cell_type": "code",
   "execution_count": 3,
   "metadata": {},
   "outputs": [
    {
     "data": {
      "text/plain": [
       "array([[[0, 0, 0, ..., 0, 0, 0],\n",
       "        [0, 0, 0, ..., 0, 0, 0],\n",
       "        [0, 0, 0, ..., 0, 0, 0],\n",
       "        ...,\n",
       "        [0, 0, 0, ..., 0, 0, 0],\n",
       "        [0, 0, 0, ..., 0, 0, 0],\n",
       "        [0, 0, 0, ..., 0, 0, 0]],\n",
       "\n",
       "       [[0, 0, 0, ..., 0, 0, 0],\n",
       "        [0, 0, 0, ..., 0, 0, 0],\n",
       "        [0, 0, 0, ..., 0, 0, 0],\n",
       "        ...,\n",
       "        [0, 0, 0, ..., 0, 0, 0],\n",
       "        [0, 0, 0, ..., 0, 0, 0],\n",
       "        [0, 0, 0, ..., 0, 0, 0]],\n",
       "\n",
       "       [[0, 0, 0, ..., 0, 0, 0],\n",
       "        [0, 0, 0, ..., 0, 0, 0],\n",
       "        [0, 0, 0, ..., 0, 0, 0],\n",
       "        ...,\n",
       "        [0, 0, 0, ..., 0, 0, 0],\n",
       "        [0, 0, 0, ..., 0, 0, 0],\n",
       "        [0, 0, 0, ..., 0, 0, 0]],\n",
       "\n",
       "       ...,\n",
       "\n",
       "       [[0, 0, 0, ..., 0, 0, 0],\n",
       "        [0, 0, 0, ..., 0, 0, 0],\n",
       "        [0, 0, 0, ..., 0, 0, 0],\n",
       "        ...,\n",
       "        [0, 0, 0, ..., 0, 0, 0],\n",
       "        [0, 0, 0, ..., 0, 0, 0],\n",
       "        [0, 0, 0, ..., 0, 0, 0]],\n",
       "\n",
       "       [[0, 0, 0, ..., 0, 0, 0],\n",
       "        [0, 0, 0, ..., 0, 0, 0],\n",
       "        [0, 0, 0, ..., 0, 0, 0],\n",
       "        ...,\n",
       "        [0, 0, 0, ..., 0, 0, 0],\n",
       "        [0, 0, 0, ..., 0, 0, 0],\n",
       "        [0, 0, 0, ..., 0, 0, 0]],\n",
       "\n",
       "       [[0, 0, 0, ..., 0, 0, 0],\n",
       "        [0, 0, 0, ..., 0, 0, 0],\n",
       "        [0, 0, 0, ..., 0, 0, 0],\n",
       "        ...,\n",
       "        [0, 0, 0, ..., 0, 0, 0],\n",
       "        [0, 0, 0, ..., 0, 0, 0],\n",
       "        [0, 0, 0, ..., 0, 0, 0]]], dtype=uint8)"
      ]
     },
     "execution_count": 3,
     "metadata": {},
     "output_type": "execute_result"
    }
   ],
   "source": [
    "X_train"
   ]
  },
  {
   "cell_type": "code",
   "execution_count": 4,
   "metadata": {},
   "outputs": [
    {
     "data": {
      "image/png": "[encoded data removed]",
      "text/plain": [
       "<Figure size 432x288 with 1 Axes>"
      ]
     },
     "metadata": {
      "needs_background": "light"
     },
     "output_type": "display_data"
    }
   ],
   "source": [
    "# Exemple.\n",
    "plt.imshow(X_train[207], cmap='gray')\n",
    "plt.show()"
   ]
  },
  {
   "cell_type": "code",
   "execution_count": 5,
   "metadata": {},
   "outputs": [],
   "source": [
    "# Reshaping my CNN entry.\n",
    "X_train = X_train.reshape(-1, 28, 28, 1)\n",
    "X_test = X_test.reshape(-1, 28, 28, 1)\n",
    "\n",
    "# As the last layer the number of neurons is proportional to the number of classes I do the onehotencoder to facilitate the understanding of my last layer.\n",
    "y_train_categorical = to_categorical(y_train)\n",
    "y_test_categorical = to_categorical(y_test)"
   ]
  },
  {
   "cell_type": "code",
   "execution_count": 6,
   "metadata": {},
   "outputs": [
    {
     "data": {
      "text/plain": [
       "array([[[[0],\n",
       "         [0],\n",
       "         [0],\n",
       "         ...,\n",
       "         [0],\n",
       "         [0],\n",
       "         [0]],\n",
       "\n",
       "        [[0],\n",
       "         [0],\n",
       "         [0],\n",
       "         ...,\n",
       "         [0],\n",
       "         [0],\n",
       "         [0]],\n",
       "\n",
       "        [[0],\n",
       "         [0],\n",
       "         [0],\n",
       "         ...,\n",
       "         [0],\n",
       "         [0],\n",
       "         [0]],\n",
       "\n",
       "        ...,\n",
       "\n",
       "        [[0],\n",
       "         [0],\n",
       "         [0],\n",
       "         ...,\n",
       "         [0],\n",
       "         [0],\n",
       "         [0]],\n",
       "\n",
       "        [[0],\n",
       "         [0],\n",
       "         [0],\n",
       "         ...,\n",
       "         [0],\n",
       "         [0],\n",
       "         [0]],\n",
       "\n",
       "        [[0],\n",
       "         [0],\n",
       "         [0],\n",
       "         ...,\n",
       "         [0],\n",
       "         [0],\n",
       "         [0]]],\n",
       "\n",
       "\n",
       "       [[[0],\n",
       "         [0],\n",
       "         [0],\n",
       "         ...,\n",
       "         [0],\n",
       "         [0],\n",
       "         [0]],\n",
       "\n",
       "        [[0],\n",
       "         [0],\n",
       "         [0],\n",
       "         ...,\n",
       "         [0],\n",
       "         [0],\n",
       "         [0]],\n",
       "\n",
       "        [[0],\n",
       "         [0],\n",
       "         [0],\n",
       "         ...,\n",
       "         [0],\n",
       "         [0],\n",
       "         [0]],\n",
       "\n",
       "        ...,\n",
       "\n",
       "        [[0],\n",
       "         [0],\n",
       "         [0],\n",
       "         ...,\n",
       "         [0],\n",
       "         [0],\n",
       "         [0]],\n",
       "\n",
       "        [[0],\n",
       "         [0],\n",
       "         [0],\n",
       "         ...,\n",
       "         [0],\n",
       "         [0],\n",
       "         [0]],\n",
       "\n",
       "        [[0],\n",
       "         [0],\n",
       "         [0],\n",
       "         ...,\n",
       "         [0],\n",
       "         [0],\n",
       "         [0]]],\n",
       "\n",
       "\n",
       "       [[[0],\n",
       "         [0],\n",
       "         [0],\n",
       "         ...,\n",
       "         [0],\n",
       "         [0],\n",
       "         [0]],\n",
       "\n",
       "        [[0],\n",
       "         [0],\n",
       "         [0],\n",
       "         ...,\n",
       "         [0],\n",
       "         [0],\n",
       "         [0]],\n",
       "\n",
       "        [[0],\n",
       "         [0],\n",
       "         [0],\n",
       "         ...,\n",
       "         [0],\n",
       "         [0],\n",
       "         [0]],\n",
       "\n",
       "        ...,\n",
       "\n",
       "        [[0],\n",
       "         [0],\n",
       "         [0],\n",
       "         ...,\n",
       "         [0],\n",
       "         [0],\n",
       "         [0]],\n",
       "\n",
       "        [[0],\n",
       "         [0],\n",
       "         [0],\n",
       "         ...,\n",
       "         [0],\n",
       "         [0],\n",
       "         [0]],\n",
       "\n",
       "        [[0],\n",
       "         [0],\n",
       "         [0],\n",
       "         ...,\n",
       "         [0],\n",
       "         [0],\n",
       "         [0]]],\n",
       "\n",
       "\n",
       "       ...,\n",
       "\n",
       "\n",
       "       [[[0],\n",
       "         [0],\n",
       "         [0],\n",
       "         ...,\n",
       "         [0],\n",
       "         [0],\n",
       "         [0]],\n",
       "\n",
       "        [[0],\n",
       "         [0],\n",
       "         [0],\n",
       "         ...,\n",
       "         [0],\n",
       "         [0],\n",
       "         [0]],\n",
       "\n",
       "        [[0],\n",
       "         [0],\n",
       "         [0],\n",
       "         ...,\n",
       "         [0],\n",
       "         [0],\n",
       "         [0]],\n",
       "\n",
       "        ...,\n",
       "\n",
       "        [[0],\n",
       "         [0],\n",
       "         [0],\n",
       "         ...,\n",
       "         [0],\n",
       "         [0],\n",
       "         [0]],\n",
       "\n",
       "        [[0],\n",
       "         [0],\n",
       "         [0],\n",
       "         ...,\n",
       "         [0],\n",
       "         [0],\n",
       "         [0]],\n",
       "\n",
       "        [[0],\n",
       "         [0],\n",
       "         [0],\n",
       "         ...,\n",
       "         [0],\n",
       "         [0],\n",
       "         [0]]],\n",
       "\n",
       "\n",
       "       [[[0],\n",
       "         [0],\n",
       "         [0],\n",
       "         ...,\n",
       "         [0],\n",
       "         [0],\n",
       "         [0]],\n",
       "\n",
       "        [[0],\n",
       "         [0],\n",
       "         [0],\n",
       "         ...,\n",
       "         [0],\n",
       "         [0],\n",
       "         [0]],\n",
       "\n",
       "        [[0],\n",
       "         [0],\n",
       "         [0],\n",
       "         ...,\n",
       "         [0],\n",
       "         [0],\n",
       "         [0]],\n",
       "\n",
       "        ...,\n",
       "\n",
       "        [[0],\n",
       "         [0],\n",
       "         [0],\n",
       "         ...,\n",
       "         [0],\n",
       "         [0],\n",
       "         [0]],\n",
       "\n",
       "        [[0],\n",
       "         [0],\n",
       "         [0],\n",
       "         ...,\n",
       "         [0],\n",
       "         [0],\n",
       "         [0]],\n",
       "\n",
       "        [[0],\n",
       "         [0],\n",
       "         [0],\n",
       "         ...,\n",
       "         [0],\n",
       "         [0],\n",
       "         [0]]],\n",
       "\n",
       "\n",
       "       [[[0],\n",
       "         [0],\n",
       "         [0],\n",
       "         ...,\n",
       "         [0],\n",
       "         [0],\n",
       "         [0]],\n",
       "\n",
       "        [[0],\n",
       "         [0],\n",
       "         [0],\n",
       "         ...,\n",
       "         [0],\n",
       "         [0],\n",
       "         [0]],\n",
       "\n",
       "        [[0],\n",
       "         [0],\n",
       "         [0],\n",
       "         ...,\n",
       "         [0],\n",
       "         [0],\n",
       "         [0]],\n",
       "\n",
       "        ...,\n",
       "\n",
       "        [[0],\n",
       "         [0],\n",
       "         [0],\n",
       "         ...,\n",
       "         [0],\n",
       "         [0],\n",
       "         [0]],\n",
       "\n",
       "        [[0],\n",
       "         [0],\n",
       "         [0],\n",
       "         ...,\n",
       "         [0],\n",
       "         [0],\n",
       "         [0]],\n",
       "\n",
       "        [[0],\n",
       "         [0],\n",
       "         [0],\n",
       "         ...,\n",
       "         [0],\n",
       "         [0],\n",
       "         [0]]]], dtype=uint8)"
      ]
     },
     "execution_count": 6,
     "metadata": {},
     "output_type": "execute_result"
    }
   ],
   "source": [
    "X_train"
   ]
  },
  {
   "cell_type": "markdown",
   "metadata": {},
   "source": [
    "## 👇 Primeira configuração"
   ]
  },
  {
   "cell_type": "code",
   "execution_count": 7,
   "metadata": {},
   "outputs": [],
   "source": [
    "backend.clear_session()\n",
    "\n",
    "# Feature extraction stages\n",
    "model_cnn_1 = Sequential()\n",
    "model_cnn_1.add(Conv2D(64, (3,3), input_shape=(28, 28, 1), padding=('valid')))\n",
    "model_cnn_1.add(MaxPool2D(pool_size=(2,2)))\n",
    "model_cnn_1.add(Activation('relu'))\n",
    "model_cnn_1.add(Flatten())\n",
    "\n",
    "# Connected stages (Classification)\n",
    "model_cnn_1.add(Dense(128, activation='relu'))\n",
    "model_cnn_1.add(Dense(10, activation='softmax'))\n",
    "\n",
    "model_cnn_1.compile(optimizer='rmsprop', loss='categorical_crossentropy', metrics=['accuracy'])"
   ]
  },
  {
   "cell_type": "code",
   "execution_count": 8,
   "metadata": {},
   "outputs": [
    {
     "name": "stdout",
     "output_type": "stream",
     "text": [
      "Model: \"sequential\"\n",
      "_________________________________________________________________\n",
      "Layer (type)                 Output Shape              Param #   \n",
      "=================================================================\n",
      "conv2d (Conv2D)              (None, 26, 26, 64)        640       \n",
      "_________________________________________________________________\n",
      "max_pooling2d (MaxPooling2D) (None, 13, 13, 64)        0         \n",
      "_________________________________________________________________\n",
      "activation (Activation)      (None, 13, 13, 64)        0         \n",
      "_________________________________________________________________\n",
      "flatten (Flatten)            (None, 10816)             0         \n",
      "_________________________________________________________________\n",
      "dense (Dense)                (None, 128)               1384576   \n",
      "_________________________________________________________________\n",
      "dense_1 (Dense)              (None, 10)                1290      \n",
      "=================================================================\n",
      "Total params: 1,386,506\n",
      "Trainable params: 1,386,506\n",
      "Non-trainable params: 0\n",
      "_________________________________________________________________\n"
     ]
    }
   ],
   "source": [
    "# Summary of my model.\n",
    "model_cnn_1.summary()"
   ]
  },
  {
   "cell_type": "code",
   "execution_count": 9,
   "metadata": {},
   "outputs": [
    {
     "name": "stdout",
     "output_type": "stream",
     "text": [
      "Epoch 1/10\n",
      "329/329 [==============================] - 21s 61ms/step - loss: 13.0095 - accuracy: 0.7997 - val_loss: 0.1042 - val_accuracy: 0.9698\n",
      "Epoch 2/10\n",
      "329/329 [==============================] - 18s 54ms/step - loss: 0.0700 - accuracy: 0.9804 - val_loss: 0.1111 - val_accuracy: 0.9704\n",
      "Epoch 3/10\n",
      "329/329 [==============================] - 17s 53ms/step - loss: 0.0300 - accuracy: 0.9906 - val_loss: 0.0954 - val_accuracy: 0.9782\n",
      "Epoch 4/10\n",
      "329/329 [==============================] - 18s 56ms/step - loss: 0.0143 - accuracy: 0.9954 - val_loss: 0.1151 - val_accuracy: 0.9776\n",
      "Epoch 5/10\n",
      "329/329 [==============================] - 18s 56ms/step - loss: 0.0082 - accuracy: 0.9977 - val_loss: 0.1140 - val_accuracy: 0.9831\n",
      "Epoch 6/10\n",
      "329/329 [==============================] - 18s 55ms/step - loss: 0.0071 - accuracy: 0.9981 - val_loss: 0.1363 - val_accuracy: 0.9809\n",
      "Epoch 7/10\n",
      "329/329 [==============================] - 18s 55ms/step - loss: 0.0059 - accuracy: 0.9983 - val_loss: 0.1475 - val_accuracy: 0.9805\n",
      "Epoch 8/10\n",
      "329/329 [==============================] - 18s 55ms/step - loss: 0.0043 - accuracy: 0.9987 - val_loss: 0.1602 - val_accuracy: 0.9815\n",
      "Epoch 9/10\n",
      "329/329 [==============================] - 18s 54ms/step - loss: 0.0042 - accuracy: 0.9988 - val_loss: 0.1783 - val_accuracy: 0.9824\n",
      "Epoch 10/10\n",
      "329/329 [==============================] - 16s 49ms/step - loss: 0.0020 - accuracy: 0.9994 - val_loss: 0.2001 - val_accuracy: 0.9811\n"
     ]
    }
   ],
   "source": [
    "# Adding the training to the variable history to be able to plot.\n",
    "history_1 = model_cnn_1.fit(X_train, y_train_categorical, batch_size=128, epochs=10, verbose=1, validation_split=0.3)"
   ]
  },
  {
   "cell_type": "code",
   "execution_count": 12,
   "metadata": {},
   "outputs": [
    {
     "name": "stdout",
     "output_type": "stream",
     "text": [
      "313/313 [==============================] - 2s 5ms/step - loss: 0.1800 - accuracy: 0.9827\n",
      "Accuracy  0.982699990272522\n"
     ]
    }
   ],
   "source": [
    "# Evaluate brings me the accuracy of my model.\n",
    "results_1 = model_cnn_1.evaluate(X_test, y_test_categorical)\n",
    "print('Accuracy ',results_1[1])"
   ]
  },
  {
   "cell_type": "code",
   "execution_count": 13,
   "metadata": {},
   "outputs": [
    {
     "data": {
      "text/plain": [
       "Text(0.5, 0, 'Epochs')"
      ]
     },
     "execution_count": 13,
     "metadata": {},
     "output_type": "execute_result"
    },
    {
     "data": {
      "image/png": "[encoded data removed]",
      "text/plain": [
       "<Figure size 432x288 with 1 Axes>"
      ]
     },
     "metadata": {
      "needs_background": "light"
     },
     "output_type": "display_data"
    }
   ],
   "source": [
    "# Plotting the accuracy of training and testing.\n",
    "plt.plot(history_1.history['accuracy'])\n",
    "plt.plot(history_1.history['val_accuracy'])\n",
    "plt.legend(['Training', 'Validation'])\n",
    "plt.title('accuracy')\n",
    "plt.xlabel('Epochs')"
   ]
  },
  {
   "cell_type": "markdown",
   "metadata": {},
   "source": [
    "## 👇 Segunda configuração"
   ]
  },
  {
   "cell_type": "code",
   "execution_count": 14,
   "metadata": {},
   "outputs": [],
   "source": [
    "backend.clear_session()\n",
    "\n",
    "# Feature extraction stages\n",
    "model_cnn_2 = Sequential()\n",
    "model_cnn_2.add(Conv2D(64, (3,3), input_shape=(28, 28, 1), padding=('valid')))\n",
    "model_cnn_2.add(MaxPool2D(pool_size=(2,2)))\n",
    "model_cnn_2.add(Activation('relu'))\n",
    "model_cnn_2.add(Flatten())\n",
    "\n",
    "# Connected stages (Classification)\n",
    "model_cnn_2.add(Dense(128, activation='tanh'))\n",
    "model_cnn_2.add(Dense(2, activation='tanh'))\n",
    "model_cnn_2.add(Dense(10, activation='softmax'))\n",
    "\n",
    "model_cnn_2.compile(optimizer='SGD', loss='categorical_crossentropy', metrics=['accuracy'])"
   ]
  },
  {
   "cell_type": "code",
   "execution_count": 15,
   "metadata": {},
   "outputs": [
    {
     "name": "stdout",
     "output_type": "stream",
     "text": [
      "Model: \"sequential\"\n",
      "_________________________________________________________________\n",
      "Layer (type)                 Output Shape              Param #   \n",
      "=================================================================\n",
      "conv2d (Conv2D)              (None, 26, 26, 64)        640       \n",
      "_________________________________________________________________\n",
      "max_pooling2d (MaxPooling2D) (None, 13, 13, 64)        0         \n",
      "_________________________________________________________________\n",
      "activation (Activation)      (None, 13, 13, 64)        0         \n",
      "_________________________________________________________________\n",
      "flatten (Flatten)            (None, 10816)             0         \n",
      "_________________________________________________________________\n",
      "dense (Dense)                (None, 128)               1384576   \n",
      "_________________________________________________________________\n",
      "dense_1 (Dense)              (None, 2)                 258       \n",
      "_________________________________________________________________\n",
      "dense_2 (Dense)              (None, 10)                30        \n",
      "=================================================================\n",
      "Total params: 1,385,504\n",
      "Trainable params: 1,385,504\n",
      "Non-trainable params: 0\n",
      "_________________________________________________________________\n"
     ]
    }
   ],
   "source": [
    "model_cnn_2.summary()"
   ]
  },
  {
   "cell_type": "code",
   "execution_count": 16,
   "metadata": {},
   "outputs": [
    {
     "name": "stdout",
     "output_type": "stream",
     "text": [
      "Epoch 1/10\n",
      "329/329 [==============================] - 16s 47ms/step - loss: 1.9172 - accuracy: 0.3623 - val_loss: 1.7519 - val_accuracy: 0.3958\n",
      "Epoch 2/10\n",
      "329/329 [==============================] - 15s 45ms/step - loss: 1.7072 - accuracy: 0.3993 - val_loss: 1.6260 - val_accuracy: 0.3967\n",
      "Epoch 3/10\n",
      "329/329 [==============================] - 14s 42ms/step - loss: 1.5974 - accuracy: 0.4019 - val_loss: 1.5408 - val_accuracy: 0.3937\n",
      "Epoch 4/10\n",
      "329/329 [==============================] - 14s 42ms/step - loss: 1.5131 - accuracy: 0.4085 - val_loss: 1.4788 - val_accuracy: 0.3965\n",
      "Epoch 5/10\n",
      "329/329 [==============================] - 15s 46ms/step - loss: 1.4603 - accuracy: 0.4059 - val_loss: 1.4233 - val_accuracy: 0.4001\n",
      "Epoch 6/10\n",
      "329/329 [==============================] - 14s 43ms/step - loss: 1.4105 - accuracy: 0.4064 - val_loss: 1.3844 - val_accuracy: 0.4039\n",
      "Epoch 7/10\n",
      "329/329 [==============================] - 14s 42ms/step - loss: 1.3678 - accuracy: 0.4123 - val_loss: 1.3676 - val_accuracy: 0.4080\n",
      "Epoch 8/10\n",
      "329/329 [==============================] - 14s 42ms/step - loss: 1.3330 - accuracy: 0.4195 - val_loss: 1.3452 - val_accuracy: 0.4224\n",
      "Epoch 9/10\n",
      "329/329 [==============================] - 14s 42ms/step - loss: 1.3117 - accuracy: 0.4312 - val_loss: 1.3046 - val_accuracy: 0.4294\n",
      "Epoch 10/10\n",
      "329/329 [==============================] - 14s 42ms/step - loss: 1.2761 - accuracy: 0.4440 - val_loss: 1.2775 - val_accuracy: 0.4499\n"
     ]
    }
   ],
   "source": [
    "history_2 = model_cnn_2.fit(X_train, y_train_categorical, batch_size=128, epochs=10, verbose=1, validation_split=0.3)"
   ]
  },
  {
   "cell_type": "code",
   "execution_count": 17,
   "metadata": {},
   "outputs": [
    {
     "name": "stdout",
     "output_type": "stream",
     "text": [
      "313/313 [==============================] - 2s 5ms/step - loss: 1.2741 - accuracy: 0.4502\n",
      "0.45019999146461487\n"
     ]
    }
   ],
   "source": [
    "results_2 = model_cnn_2.evaluate(X_test, y_test_categorical)\n",
    "print(results_2[1])"
   ]
  },
  {
   "cell_type": "code",
   "execution_count": 18,
   "metadata": {},
   "outputs": [
    {
     "data": {
      "text/plain": [
       "Text(0.5, 0, 'Epochs')"
      ]
     },
     "execution_count": 18,
     "metadata": {},
     "output_type": "execute_result"
    },
    {
     "data": {
      "image/png": "[encoded data removed]",
      "text/plain": [
       "<Figure size 432x288 with 1 Axes>"
      ]
     },
     "metadata": {
      "needs_background": "light"
     },
     "output_type": "display_data"
    }
   ],
   "source": [
    "plt.plot(history_2.history['accuracy'])\n",
    "plt.plot(history_2.history['val_accuracy'])\n",
    "plt.legend(['Training', 'Validation'])\n",
    "plt.title('accuracy')\n",
    "plt.xlabel('Epochs')"
   ]
  },
  {
   "cell_type": "markdown",
   "metadata": {},
   "source": [
    "# CIFAR10"
   ]
  },
  {
   "cell_type": "code",
   "execution_count": 3,
   "metadata": {},
   "outputs": [
    {
     "name": "stdout",
     "output_type": "stream",
     "text": [
      "Downloading data from https://www.cs.toronto.edu/~kriz/cifar-10-python.tar.gz\n",
      "170500096/170498071 [==============================] - 81s 0us/step\n",
      "(50000, 32, 32, 3)\n",
      "(10000, 32, 32, 3)\n"
     ]
    }
   ],
   "source": [
    "# Import dataset from keras.\n",
    "from keras.datasets import cifar10\n",
    "\n",
    "# Loading training and test data.\n",
    "(X_train, y_train), (X_test, y_test) = cifar10.load_data()\n",
    "print(X_train.shape)\n",
    "print(X_test.shape)"
   ]
  },
  {
   "cell_type": "code",
   "execution_count": 5,
   "metadata": {},
   "outputs": [
    {
     "data": {
      "image/png": "[encoded data removed]",
      "text/plain": [
       "<Figure size 432x288 with 1 Axes>"
      ]
     },
     "metadata": {
      "needs_background": "light"
     },
     "output_type": "display_data"
    }
   ],
   "source": [
    "# Exemple.\n",
    "plt.imshow(X_train[207])\n",
    "plt.show()"
   ]
  },
  {
   "cell_type": "code",
   "execution_count": 7,
   "metadata": {},
   "outputs": [],
   "source": [
    "# As the last layer the number of neurons is proportional to the number of classes I do the onehotencoder to facilitate the understanding of my last layer.\n",
    "y_train_categorical = to_categorical(y_train)\n",
    "y_test_categorical = to_categorical(y_test)"
   ]
  },
  {
   "cell_type": "code",
   "execution_count": 8,
   "metadata": {},
   "outputs": [],
   "source": [
    "# convert from integers to floats\n",
    "X_train = X_train.astype('float32')\n",
    "X_test = X_test.astype('float32')\n",
    "# normalize to range 0-1\n",
    "X_train = X_train / 255.0\n",
    "X_test = X_test / 255.0"
   ]
  },
  {
   "cell_type": "markdown",
   "metadata": {},
   "source": [
    "## 👇 Primeira configuração"
   ]
  },
  {
   "cell_type": "code",
   "execution_count": 32,
   "metadata": {},
   "outputs": [],
   "source": [
    "model_cnn_1 = Sequential()\n",
    "model_cnn_1.add(Conv2D(32, (3, 3), activation='relu', kernel_initializer='he_uniform', padding='same', input_shape=(32, 32, 3)))\n",
    "model_cnn_1.add(Conv2D(32, (3, 3), activation='relu', kernel_initializer='he_uniform', padding='same'))\n",
    "model_cnn_1.add(MaxPool2D((2, 2)))\n",
    "model_cnn_1.add(Flatten())\n",
    "model_cnn_1.add(Dense(128, activation='relu', kernel_initializer='he_uniform'))\n",
    "model_cnn_1.add(Dense(10, activation='softmax'))\n",
    "# compile model\n",
    "model_cnn_1.compile(optimizer='adam', loss='categorical_crossentropy', metrics=['accuracy'])"
   ]
  },
  {
   "cell_type": "code",
   "execution_count": 33,
   "metadata": {},
   "outputs": [
    {
     "name": "stdout",
     "output_type": "stream",
     "text": [
      "Model: \"sequential_2\"\n",
      "_________________________________________________________________\n",
      "Layer (type)                 Output Shape              Param #   \n",
      "=================================================================\n",
      "conv2d_5 (Conv2D)            (None, 32, 32, 32)        896       \n",
      "_________________________________________________________________\n",
      "conv2d_6 (Conv2D)            (None, 32, 32, 32)        9248      \n",
      "_________________________________________________________________\n",
      "max_pooling2d_2 (MaxPooling2 (None, 16, 16, 32)        0         \n",
      "_________________________________________________________________\n",
      "flatten_1 (Flatten)          (None, 8192)              0         \n",
      "_________________________________________________________________\n",
      "dense_2 (Dense)              (None, 128)               1048704   \n",
      "_________________________________________________________________\n",
      "dense_3 (Dense)              (None, 10)                1290      \n",
      "=================================================================\n",
      "Total params: 1,060,138\n",
      "Trainable params: 1,060,138\n",
      "Non-trainable params: 0\n",
      "_________________________________________________________________\n"
     ]
    }
   ],
   "source": [
    "model_cnn_1.summary()"
   ]
  },
  {
   "cell_type": "code",
   "execution_count": 34,
   "metadata": {},
   "outputs": [
    {
     "name": "stdout",
     "output_type": "stream",
     "text": [
      "Epoch 1/10\n",
      "274/274 [==============================] - 40s 144ms/step - loss: 1.8669 - accuracy: 0.3426 - val_loss: 1.2846 - val_accuracy: 0.5544\n",
      "Epoch 2/10\n",
      "274/274 [==============================] - 37s 134ms/step - loss: 1.1624 - accuracy: 0.5928 - val_loss: 1.1234 - val_accuracy: 0.6105\n",
      "Epoch 3/10\n",
      "274/274 [==============================] - 36s 131ms/step - loss: 0.9437 - accuracy: 0.6702 - val_loss: 1.0389 - val_accuracy: 0.6377\n",
      "Epoch 4/10\n",
      "274/274 [==============================] - 36s 131ms/step - loss: 0.8109 - accuracy: 0.7204 - val_loss: 1.0547 - val_accuracy: 0.6376\n",
      "Epoch 5/10\n",
      "274/274 [==============================] - 36s 132ms/step - loss: 0.7066 - accuracy: 0.7560 - val_loss: 1.0252 - val_accuracy: 0.6534\n",
      "Epoch 6/10\n",
      "274/274 [==============================] - 36s 131ms/step - loss: 0.6141 - accuracy: 0.7888 - val_loss: 1.0231 - val_accuracy: 0.6647\n",
      "Epoch 7/10\n",
      "274/274 [==============================] - 36s 132ms/step - loss: 0.5153 - accuracy: 0.8231 - val_loss: 1.0126 - val_accuracy: 0.6723\n",
      "Epoch 8/10\n",
      "274/274 [==============================] - 36s 131ms/step - loss: 0.4193 - accuracy: 0.8613 - val_loss: 1.1441 - val_accuracy: 0.6515\n",
      "Epoch 9/10\n",
      "274/274 [==============================] - 36s 132ms/step - loss: 0.3513 - accuracy: 0.8849 - val_loss: 1.1605 - val_accuracy: 0.6625\n",
      "Epoch 10/10\n",
      "274/274 [==============================] - 37s 135ms/step - loss: 0.2804 - accuracy: 0.9126 - val_loss: 1.2683 - val_accuracy: 0.6572\n"
     ]
    }
   ],
   "source": [
    "history_1 = model_cnn_1.fit(X_train, y_train_categorical, batch_size=128, epochs=10, verbose=1, validation_split=0.3)"
   ]
  },
  {
   "cell_type": "code",
   "execution_count": 35,
   "metadata": {},
   "outputs": [
    {
     "name": "stdout",
     "output_type": "stream",
     "text": [
      "313/313 [==============================] - 3s 10ms/step - loss: 1.2774 - accuracy: 0.6466\n",
      "Accuracy  0.6466000080108643\n"
     ]
    }
   ],
   "source": [
    "# Evaluate brings me the accuracy of my model.\n",
    "results_1 = model_cnn_1.evaluate(X_test, y_test_categorical)\n",
    "print('Accuracy ',results_1[1])"
   ]
  },
  {
   "cell_type": "code",
   "execution_count": 36,
   "metadata": {},
   "outputs": [
    {
     "data": {
      "text/plain": [
       "Text(0.5, 0, 'Epochs')"
      ]
     },
     "execution_count": 36,
     "metadata": {},
     "output_type": "execute_result"
    },
    {
     "data": {
      "image/png": "[encoded data removed]",
      "text/plain": [
       "<Figure size 432x288 with 1 Axes>"
      ]
     },
     "metadata": {
      "needs_background": "light"
     },
     "output_type": "display_data"
    }
   ],
   "source": [
    "# Plotting the accuracy of training and testing.\n",
    "plt.plot(history_1.history['accuracy'])\n",
    "plt.plot(history_1.history['val_accuracy'])\n",
    "plt.legend(['Training', 'Validation'])\n",
    "plt.title('accuracy')\n",
    "plt.xlabel('Epochs')"
   ]
  },
  {
   "cell_type": "markdown",
   "metadata": {},
   "source": [
    "## 👇 Segunda configuração"
   ]
  },
  {
   "cell_type": "code",
   "execution_count": 39,
   "metadata": {},
   "outputs": [],
   "source": [
    "model_cnn_2 = Sequential()\n",
    "model_cnn_2.add(Conv2D(32, (3, 3), activation='relu', kernel_initializer='he_uniform', padding='same', input_shape=(32, 32, 3)))\n",
    "model_cnn_2.add(Conv2D(32, (3, 3), activation='relu', kernel_initializer='he_uniform', padding='same'))\n",
    "model_cnn_2.add(MaxPool2D((2, 2)))\n",
    "model_cnn_2.add(Conv2D(64, (3, 3), activation='relu', kernel_initializer='he_uniform', padding='same'))\n",
    "model_cnn_2.add(Conv2D(64, (3, 3), activation='relu', kernel_initializer='he_uniform', padding='same'))\n",
    "model_cnn_2.add(MaxPool2D((2, 2)))\n",
    "model_cnn_2.add(Flatten())\n",
    "model_cnn_2.add(Dense(128, activation='relu', kernel_initializer='he_uniform'))\n",
    "model_cnn_2.add(Dense(10, activation='softmax'))\n",
    "\n",
    "model_cnn_2.compile(optimizer='adam', loss='categorical_crossentropy', metrics=['accuracy'])"
   ]
  },
  {
   "cell_type": "code",
   "execution_count": 41,
   "metadata": {},
   "outputs": [
    {
     "name": "stdout",
     "output_type": "stream",
     "text": [
      "Model: \"sequential_5\"\n",
      "_________________________________________________________________\n",
      "Layer (type)                 Output Shape              Param #   \n",
      "=================================================================\n",
      "conv2d_12 (Conv2D)           (None, 32, 32, 32)        896       \n",
      "_________________________________________________________________\n",
      "conv2d_13 (Conv2D)           (None, 32, 32, 32)        9248      \n",
      "_________________________________________________________________\n",
      "max_pooling2d_5 (MaxPooling2 (None, 16, 16, 32)        0         \n",
      "_________________________________________________________________\n",
      "conv2d_14 (Conv2D)           (None, 16, 16, 64)        18496     \n",
      "_________________________________________________________________\n",
      "conv2d_15 (Conv2D)           (None, 16, 16, 64)        36928     \n",
      "_________________________________________________________________\n",
      "max_pooling2d_6 (MaxPooling2 (None, 8, 8, 64)          0         \n",
      "_________________________________________________________________\n",
      "flatten_3 (Flatten)          (None, 4096)              0         \n",
      "_________________________________________________________________\n",
      "dense_6 (Dense)              (None, 128)               524416    \n",
      "_________________________________________________________________\n",
      "dense_7 (Dense)              (None, 10)                1290      \n",
      "=================================================================\n",
      "Total params: 591,274\n",
      "Trainable params: 591,274\n",
      "Non-trainable params: 0\n",
      "_________________________________________________________________\n"
     ]
    }
   ],
   "source": [
    "model_cnn_2.summary()"
   ]
  },
  {
   "cell_type": "code",
   "execution_count": 42,
   "metadata": {},
   "outputs": [
    {
     "name": "stdout",
     "output_type": "stream",
     "text": [
      "Epoch 1/10\n",
      "274/274 [==============================] - 73s 264ms/step - loss: 1.7636 - accuracy: 0.3627 - val_loss: 1.2187 - val_accuracy: 0.5679\n",
      "Epoch 2/10\n",
      "274/274 [==============================] - 74s 271ms/step - loss: 1.1008 - accuracy: 0.6115 - val_loss: 1.0979 - val_accuracy: 0.6138\n",
      "Epoch 3/10\n",
      "274/274 [==============================] - 71s 258ms/step - loss: 0.8817 - accuracy: 0.6914 - val_loss: 0.9300 - val_accuracy: 0.6754\n",
      "Epoch 4/10\n",
      "274/274 [==============================] - 73s 265ms/step - loss: 0.7316 - accuracy: 0.7457 - val_loss: 0.8825 - val_accuracy: 0.6979\n",
      "Epoch 5/10\n",
      "274/274 [==============================] - 74s 272ms/step - loss: 0.6153 - accuracy: 0.7844 - val_loss: 0.8431 - val_accuracy: 0.7095\n",
      "Epoch 6/10\n",
      "274/274 [==============================] - 71s 258ms/step - loss: 0.4988 - accuracy: 0.8257 - val_loss: 0.9288 - val_accuracy: 0.7015\n",
      "Epoch 7/10\n",
      "274/274 [==============================] - 67s 245ms/step - loss: 0.4154 - accuracy: 0.8547 - val_loss: 0.9461 - val_accuracy: 0.6966\n",
      "Epoch 8/10\n",
      "274/274 [==============================] - 70s 254ms/step - loss: 0.3243 - accuracy: 0.8861 - val_loss: 0.9385 - val_accuracy: 0.7143\n",
      "Epoch 9/10\n",
      "274/274 [==============================] - 72s 261ms/step - loss: 0.2444 - accuracy: 0.9186 - val_loss: 1.1273 - val_accuracy: 0.7069\n",
      "Epoch 10/10\n",
      "274/274 [==============================] - 74s 269ms/step - loss: 0.1972 - accuracy: 0.9329 - val_loss: 1.2195 - val_accuracy: 0.7020\n"
     ]
    }
   ],
   "source": [
    "history_2 = model_cnn_2.fit(X_train, y_train_categorical, batch_size=128, epochs=10, verbose=1, validation_split=0.3)"
   ]
  },
  {
   "cell_type": "code",
   "execution_count": 43,
   "metadata": {},
   "outputs": [
    {
     "name": "stdout",
     "output_type": "stream",
     "text": [
      "313/313 [==============================] - 6s 18ms/step - loss: 1.2234 - accuracy: 0.7004\n",
      "Accuracy  0.6466000080108643\n"
     ]
    }
   ],
   "source": [
    "# Evaluate brings me the accuracy of my model.\n",
    "results_2 = model_cnn_2.evaluate(X_test, y_test_categorical)\n",
    "print('Accuracy ',results_1[1])"
   ]
  },
  {
   "cell_type": "code",
   "execution_count": 44,
   "metadata": {},
   "outputs": [
    {
     "data": {
      "text/plain": [
       "Text(0.5, 0, 'Epochs')"
      ]
     },
     "execution_count": 44,
     "metadata": {},
     "output_type": "execute_result"
    },
    {
     "data": {
      "image/png": "[encoded data removed]",
      "text/plain": [
       "<Figure size 432x288 with 1 Axes>"
      ]
     },
     "metadata": {
      "needs_background": "light"
     },
     "output_type": "display_data"
    }
   ],
   "source": [
    "# Plotting the accuracy of training and testing.\n",
    "plt.plot(history_2.history['accuracy'])\n",
    "plt.plot(history_2.history['val_accuracy'])\n",
    "plt.legend(['Training', 'Validation'])\n",
    "plt.title('accuracy')\n",
    "plt.xlabel('Epochs')"
   ]
  },
  {
   "cell_type": "code",
   "execution_count": null,
   "metadata": {},
   "outputs": [],
   "source": []
  }
 ],
 "metadata": {
  "kernelspec": {
   "display_name": "Python 3",
   "language": "python",
   "name": "python3"
  },
  "language_info": {
   "codemirror_mode": {
    "name": "ipython",
    "version": 3
   },
   "file_extension": ".py",
   "mimetype": "text/x-python",
   "name": "python",
   "nbconvert_exporter": "python",
   "pygments_lexer": "ipython3",
   "version": "3.8.5"
  }
 },
 "nbformat": 4,
 "nbformat_minor": 4
}
