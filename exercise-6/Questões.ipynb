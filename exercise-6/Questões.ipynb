{
 "cells": [
  {
   "cell_type": "code",
   "execution_count": 8,
   "metadata": {},
   "outputs": [],
   "source": [
    "import matplotlib.pyplot as plt\n",
    "import torch \n",
    "import numpy as np\n",
    "import pandas as pd\n",
    "import csv\n",
    "from sklearn.svm import SVC\n",
    "from pandas import read_csv"
   ]
  },
  {
   "cell_type": "code",
   "execution_count": 13,
   "metadata": {},
   "outputs": [],
   "source": [
    "def read_data(file):\n",
    "    # Load the features of a file in a dataframe\n",
    "    return pd.read_csv(file, sep=',', header=None)"
   ]
  },
  {
   "cell_type": "code",
   "execution_count": 14,
   "metadata": {},
   "outputs": [],
   "source": [
    "def hold_out(df, train_size, shuffle=True):\n",
    "\n",
    "    # Shuffle the dataframe if the shuffle is set to true\n",
    "    if shuffle:\n",
    "        df = df.sample(frac=1).reset_index(drop=True)\n",
    "\n",
    "    # Convert the rows of the dataframe into a list of lists\n",
    "    data = []\n",
    "    for row in df.iterrows():\n",
    "        index, values = row\n",
    "        data.append(values.tolist())\n",
    "\n",
    "    # Split the data into train and test\n",
    "    X_train = data[:int(train_size*len(data))]\n",
    "    X_test = data[int(train_size*len(data)):]\n",
    "\n",
    "    # Get the correspondent labels to each feature vector\n",
    "    y_train = [int(x[-1]) for x in X_train]\n",
    "    y_test = [int(x[-1]) for x in X_test]\n",
    "\n",
    "    # Remove the labels from the train and test vectors\n",
    "    X_train = [x[:-1] for x in X_train]\n",
    "    X_test = [x[:-1] for x in X_test]\n",
    "\n",
    "    return X_train, X_test, y_train, y_test"
   ]
  },
  {
   "cell_type": "code",
   "execution_count": 10,
   "metadata": {},
   "outputs": [],
   "source": [
    "import torch.distributions.uniform as dist\n",
    "def generate_set(n_data):\n",
    "    data = dist.Uniform(-1*torch.ones(n_data),torch.ones(n_data))\n",
    "    data_sample = data.sample()\n",
    "    return data_sample"
   ]
  },
  {
   "cell_type": "code",
   "execution_count": 12,
   "metadata": {},
   "outputs": [],
   "source": [
    "filename = 'dados-ex5.txt'\n",
    "features = read_data(filename)"
   ]
  },
  {
   "cell_type": "code",
   "execution_count": null,
   "metadata": {},
   "outputs": [],
   "source": []
  }
 ],
 "metadata": {
  "kernelspec": {
   "display_name": "Python 3",
   "language": "python",
   "name": "python3"
  },
  "language_info": {
   "codemirror_mode": {
    "name": "ipython",
    "version": 3
   },
   "file_extension": ".py",
   "mimetype": "text/x-python",
   "name": "python",
   "nbconvert_exporter": "python",
   "pygments_lexer": "ipython3",
   "version": "3.8.5"
  }
 },
 "nbformat": 4,
 "nbformat_minor": 4
}
