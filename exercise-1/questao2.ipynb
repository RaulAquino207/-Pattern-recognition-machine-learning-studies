{
 "cells": [
  {
   "cell_type": "markdown",
   "metadata": {},
   "source": [
    "# Execícios RPAD\n",
    "## DUPLA: Raul Aquino e Paulo Marvin\n",
    "### Knn - questão 2"
   ]
  },
  {
   "cell_type": "markdown",
   "metadata": {},
   "source": [
    "## Importações básicas."
   ]
  },
  {
   "cell_type": "code",
   "execution_count": 69,
   "metadata": {},
   "outputs": [],
   "source": [
    "import pandas as pd\n",
    "from pandas import read_csv\n",
    "import matplotlib.pyplot as plt\n",
    "import torch \n",
    "import numpy as np"
   ]
  },
  {
   "cell_type": "markdown",
   "metadata": {},
   "source": [
    "## Método para gerar dados no intervalo de [-1,1]."
   ]
  },
  {
   "cell_type": "code",
   "execution_count": 70,
   "metadata": {},
   "outputs": [],
   "source": [
    "import torch.distributions.uniform as dist\n",
    "def generate_set(n_dados):\n",
    "    dados = dist.Uniform(-1*torch.ones(n_dados),torch.ones(n_dados))\n",
    "    dados_sample = dados.sample()\n",
    "    return dados_sample"
   ]
  },
  {
   "cell_type": "markdown",
   "metadata": {},
   "source": [
    "## Gerando os três conjuntos de dados com N = 4, N = 10 e N = 100."
   ]
  },
  {
   "cell_type": "code",
   "execution_count": 71,
   "metadata": {},
   "outputs": [
    {
     "name": "stdout",
     "output_type": "stream",
     "text": [
      "tensor([ 0.8012, -0.7205,  0.4793, -0.2211])\n",
      "\n",
      "tensor([-0.7492, -0.4114,  0.9768,  0.1084, -0.2418,  0.0849, -0.9135, -0.3008,\n",
      "         0.5035,  0.9239])\n",
      "\n",
      "tensor([ 4.7293e-02, -5.2921e-01,  6.1387e-01, -4.7042e-01, -7.9665e-01,\n",
      "         8.0620e-01,  6.8839e-01, -3.3963e-01,  9.6567e-01,  6.2191e-01,\n",
      "        -4.7257e-01,  5.1808e-01,  1.2354e-01, -8.4537e-01,  9.1165e-01,\n",
      "        -5.3115e-01,  4.7378e-01,  3.5998e-01, -6.9944e-01, -1.9549e-01,\n",
      "         2.3238e-01,  7.5333e-01,  6.5345e-01,  5.9322e-01, -6.4208e-01,\n",
      "         3.8891e-01,  6.3741e-01, -2.7148e-01, -8.8171e-01,  6.9731e-01,\n",
      "         4.0794e-01, -9.4219e-01, -7.7402e-01, -2.9547e-01,  2.5635e-01,\n",
      "        -3.7922e-01,  3.7887e-01, -5.0288e-01,  1.0201e-01, -3.3717e-01,\n",
      "         1.0785e-01, -5.2231e-01,  9.9668e-01, -6.0163e-01, -9.6442e-01,\n",
      "         3.8773e-01, -5.5626e-01, -6.3666e-01,  8.7410e-01, -4.6751e-01,\n",
      "         1.9183e-01,  7.2955e-01,  7.9371e-01,  1.0850e-01, -1.8004e-01,\n",
      "        -6.1112e-01,  3.5615e-01, -8.3664e-01, -6.4296e-01, -1.4089e-01,\n",
      "         2.1366e-01,  7.1606e-01,  3.7253e-01,  1.2886e-02,  9.7523e-01,\n",
      "         7.9929e-01,  7.0059e-01, -7.9893e-01,  6.1828e-01, -3.2744e-01,\n",
      "        -3.4801e-01,  3.6001e-02,  1.7943e-01, -6.7897e-01, -4.8780e-01,\n",
      "        -5.3369e-01, -5.1664e-01,  8.1561e-01,  3.2660e-02, -6.6438e-01,\n",
      "         1.8023e-01, -5.4681e-01, -3.6961e-01,  9.1890e-01,  8.0984e-01,\n",
      "         8.2215e-01, -2.0044e-01,  5.3647e-01,  9.2452e-01,  4.8189e-01,\n",
      "         9.2538e-01, -8.7288e-01, -1.0136e-01, -5.6267e-04, -9.3462e-01,\n",
      "        -4.5484e-01, -4.4152e-01, -2.6941e-01, -6.7624e-01,  6.5459e-01])\n"
     ]
    }
   ],
   "source": [
    "dados_treinamento_4 = generate_set(4)\n",
    "dados_treinamento_10 = generate_set(10)\n",
    "dados_treinamento_100 = generate_set(100)\n",
    "print(dados_treinamento_4)\n",
    "print()\n",
    "print(dados_treinamento_10)\n",
    "print()\n",
    "print(dados_treinamento_100)"
   ]
  },
  {
   "cell_type": "markdown",
   "metadata": {},
   "source": [
    "## Função para gerar as amostras a partir da função:\n"
   ]
  },
  {
   "cell_type": "markdown",
   "metadata": {},
   "source": [
    "\\begin{align}\n",
    "\\dot{f(x)} & = 2x^2sin(15x) \\quad com \\qquad x\\in [-1,1]\n",
    "\\end{align}"
   ]
  },
  {
   "cell_type": "code",
   "execution_count": 72,
   "metadata": {},
   "outputs": [],
   "source": [
    "def generate_dataset(joint):\n",
    "    classes = 2*torch.pow(joint,2)*torch.sin(15*joint)\n",
    "    return classes"
   ]
  },
  {
   "cell_type": "markdown",
   "metadata": {},
   "source": [
    "## Gerando amostrar de N = 4."
   ]
  },
  {
   "cell_type": "code",
   "execution_count": 73,
   "metadata": {},
   "outputs": [
    {
     "name": "stdout",
     "output_type": "stream",
     "text": [
      "tensor([-0.6700,  1.0201,  0.3619,  0.0170])\n"
     ]
    }
   ],
   "source": [
    "classesKnn4 = generate_dataset(dados_treinamento_4)\n",
    "print(classesKnn4)"
   ]
  },
  {
   "cell_type": "markdown",
   "metadata": {},
   "source": [
    "## Gerando amostrar de N = 10."
   ]
  },
  {
   "cell_type": "code",
   "execution_count": 74,
   "metadata": {},
   "outputs": [
    {
     "name": "stdout",
     "output_type": "stream",
     "text": [
      "tensor([ 1.0897,  0.0378,  1.6608,  0.0235,  0.0545,  0.0138, -1.5135,  0.1774,\n",
      "         0.4841,  1.6413])\n"
     ]
    }
   ],
   "source": [
    "classesKnn10 = generate_dataset(dados_treinamento_10)\n",
    "print(classesKnn10)"
   ]
  },
  {
   "cell_type": "markdown",
   "metadata": {},
   "source": [
    "## Gerando amostrar de N = 100."
   ]
  },
  {
   "cell_type": "code",
   "execution_count": 75,
   "metadata": {},
   "outputs": [
    {
     "name": "stdout",
     "output_type": "stream",
     "text": [
      "tensor([ 2.9138e-03, -5.5814e-01,  1.6204e-01, -3.0912e-01,  7.3401e-01,\n",
      "        -5.9265e-01, -7.4303e-01,  2.1406e-01,  1.7533e+00,  7.4259e-02,\n",
      "        -3.2205e-01,  5.3497e-01,  2.9315e-02, -1.6282e-01,  1.4877e+00,\n",
      "        -5.6063e-01,  3.2933e-01, -2.0033e-01,  8.5675e-01, -1.5880e-02,\n",
      "        -3.6439e-02, -1.0828e+00, -3.1442e-01,  3.5367e-01,  1.6904e-01,\n",
      "        -1.3144e-01, -1.1041e-01,  1.1821e-01, -9.5233e-01, -8.3612e-01,\n",
      "        -5.4367e-02, -1.7754e+00,  9.7887e-01,  1.6779e-01, -8.5028e-02,\n",
      "         1.6119e-01, -1.6212e-01, -4.8156e-01,  2.0794e-02,  2.1396e-01,\n",
      "         2.3239e-02, -5.4552e-01,  1.3656e+00, -2.8216e-01, -1.7604e+00,\n",
      "        -1.3543e-01, -5.4605e-01,  1.0113e-01,  7.9241e-01, -2.9131e-01,\n",
      "         1.9214e-02, -1.0630e+00, -7.7320e-01,  2.3506e-02, -2.7669e-02,\n",
      "        -1.9056e-01, -2.0500e-01,  2.3375e-02,  1.8007e-01, -3.4000e-02,\n",
      "        -5.7745e-03, -9.9240e-01, -1.7779e-01,  6.3793e-05,  1.6771e+00,\n",
      "        -6.9710e-01, -8.6768e-01,  7.0216e-01,  1.1473e-01,  2.1019e-01,\n",
      "         2.1166e-01,  1.3328e-03,  2.8016e-02,  6.3508e-01, -4.0891e-01,\n",
      "        -5.6314e-01, -5.3094e-01, -4.3391e-01,  1.0038e-03,  4.5458e-01,\n",
      "         2.7565e-02, -5.6212e-01,  1.8404e-01,  1.5843e+00, -5.3341e-01,\n",
      "        -3.1355e-01, -1.0818e-02,  5.6491e-01,  1.6478e+00,  3.7647e-01,\n",
      "         1.6567e+00, -7.6611e-01, -2.0523e-02, -5.3441e-09, -1.7349e+00,\n",
      "        -2.1250e-01, -1.2990e-01,  1.1368e-01,  6.0227e-01, -3.2900e-01])\n"
     ]
    }
   ],
   "source": [
    "classesKnn100 = generate_dataset(dados_treinamento_100)\n",
    "print(classesKnn100)"
   ]
  },
  {
   "cell_type": "markdown",
   "metadata": {},
   "source": [
    "## Importando o KNN Regressor do Sklearning. Usando K = 1."
   ]
  },
  {
   "cell_type": "markdown",
   "metadata": {},
   "source": [
    "### Fazendo a utilização dos dados de treinamento4 e o classesKnn4 para treinamento."
   ]
  },
  {
   "cell_type": "code",
   "execution_count": 76,
   "metadata": {},
   "outputs": [
    {
     "data": {
      "text/plain": [
       "KNeighborsRegressor(algorithm='auto', leaf_size=30, metric='minkowski',\n",
       "                    metric_params=None, n_jobs=None, n_neighbors=1, p=2,\n",
       "                    weights='uniform')"
      ]
     },
     "execution_count": 76,
     "metadata": {},
     "output_type": "execute_result"
    }
   ],
   "source": [
    "from sklearn.neighbors import KNeighborsRegressor\n",
    "knn = KNeighborsRegressor(n_neighbors = 1)\n",
    "knn.fit(dados_treinamento_4.view(-1,1),classesKnn4.view(-1,1))"
   ]
  },
  {
   "cell_type": "markdown",
   "metadata": {},
   "source": [
    "## Criando dados de teste."
   ]
  },
  {
   "cell_type": "code",
   "execution_count": 77,
   "metadata": {},
   "outputs": [],
   "source": [
    "set_test = generate_set(1000)"
   ]
  },
  {
   "cell_type": "markdown",
   "metadata": {},
   "source": [
    "## Plotando predições para K = 1 e utilizando classesKnn4."
   ]
  },
  {
   "cell_type": "code",
   "execution_count": 78,
   "metadata": {},
   "outputs": [
    {
     "data": {
      "text/plain": [
       "[<matplotlib.lines.Line2D at 0x7fe2cae1f3d0>]"
      ]
     },
     "execution_count": 78,
     "metadata": {},
     "output_type": "execute_result"
    },
    {
     "data": {
      "image/png": "[encoded data removed]",
      "text/plain": [
       "<Figure size 432x288 with 1 Axes>"
      ]
     },
     "metadata": {
      "needs_background": "light"
     },
     "output_type": "display_data"
    }
   ],
   "source": [
    "predicts = knn.predict(set_test.view(-1,1))\n",
    "plt.plot(set_test,predicts, '.')"
   ]
  },
  {
   "cell_type": "code",
   "execution_count": 79,
   "metadata": {},
   "outputs": [
    {
     "data": {
      "text/plain": [
       "[<matplotlib.lines.Line2D at 0x7fe2cae06bd0>]"
      ]
     },
     "execution_count": 79,
     "metadata": {},
     "output_type": "execute_result"
    },
    {
     "data": {
      "image/png": "[encoded data removed]",
      "text/plain": [
       "<Figure size 432x288 with 1 Axes>"
      ]
     },
     "metadata": {
      "needs_background": "light"
     },
     "output_type": "display_data"
    }
   ],
   "source": [
    "plt.plot(set_test,predicts, '.')\n",
    "plt.plot(set_test, generate_dataset(set_test),'.', c = 'red')"
   ]
  },
  {
   "cell_type": "markdown",
   "metadata": {},
   "source": [
    "## Calculando o erro quadrático médio, representado por:"
   ]
  },
  {
   "cell_type": "markdown",
   "metadata": {},
   "source": [
    "\\begin{equation*}\n",
    "\\mathcal{L} =\\frac{1}{N}\\sum_{k=1}^{N} (y_n-\\hat{y}_n)^2\n",
    "\\end{equation*}"
   ]
  },
  {
   "cell_type": "code",
   "execution_count": 80,
   "metadata": {},
   "outputs": [
    {
     "name": "stdout",
     "output_type": "stream",
     "text": [
      "0.9255831\n"
     ]
    }
   ],
   "source": [
    "from sklearn.metrics import mean_squared_error\n",
    "error = mean_squared_error(predicts,generate_dataset(set_test))\n",
    "print(error)"
   ]
  },
  {
   "cell_type": "markdown",
   "metadata": {},
   "source": [
    "## Importando o KNN Regressor do Sklearning. Usando K = 3."
   ]
  },
  {
   "cell_type": "markdown",
   "metadata": {},
   "source": [
    "### Fazendo a utilização dos dados de treinamento10 e o classesKnn10 para treinamento."
   ]
  },
  {
   "cell_type": "code",
   "execution_count": 81,
   "metadata": {},
   "outputs": [
    {
     "data": {
      "text/plain": [
       "KNeighborsRegressor(algorithm='auto', leaf_size=30, metric='minkowski',\n",
       "                    metric_params=None, n_jobs=None, n_neighbors=3, p=2,\n",
       "                    weights='uniform')"
      ]
     },
     "execution_count": 81,
     "metadata": {},
     "output_type": "execute_result"
    }
   ],
   "source": [
    "from sklearn.neighbors import KNeighborsRegressor\n",
    "knn = KNeighborsRegressor(n_neighbors = 3)\n",
    "knn.fit(dados_treinamento_10.view(-1,1),classesKnn10.view(-1,1))"
   ]
  },
  {
   "cell_type": "markdown",
   "metadata": {},
   "source": [
    "## Plotando predições para K = 3 e utilizando classesKnn10."
   ]
  },
  {
   "cell_type": "code",
   "execution_count": 82,
   "metadata": {},
   "outputs": [
    {
     "data": {
      "text/plain": [
       "[<matplotlib.lines.Line2D at 0x7fe2cad349d0>]"
      ]
     },
     "execution_count": 82,
     "metadata": {},
     "output_type": "execute_result"
    },
    {
     "data": {
      "image/png": "[encoded data removed]",
      "text/plain": [
       "<Figure size 432x288 with 1 Axes>"
      ]
     },
     "metadata": {
      "needs_background": "light"
     },
     "output_type": "display_data"
    }
   ],
   "source": [
    "predicts = knn.predict(set_test.view(-1,1))\n",
    "plt.plot(set_test,predicts, '.')"
   ]
  },
  {
   "cell_type": "code",
   "execution_count": 83,
   "metadata": {},
   "outputs": [
    {
     "data": {
      "text/plain": [
       "[<matplotlib.lines.Line2D at 0x7fe2cac8b950>]"
      ]
     },
     "execution_count": 83,
     "metadata": {},
     "output_type": "execute_result"
    },
    {
     "data": {
      "image/png": "[encoded data removed]",
      "text/plain": [
       "<Figure size 432x288 with 1 Axes>"
      ]
     },
     "metadata": {
      "needs_background": "light"
     },
     "output_type": "display_data"
    }
   ],
   "source": [
    "plt.plot(set_test,predicts, '.')\n",
    "plt.plot(set_test, generate_dataset(set_test),'.', c = 'red')"
   ]
  },
  {
   "cell_type": "markdown",
   "metadata": {},
   "source": [
    "## Calculando o erro quadrático médio, representado por:"
   ]
  },
  {
   "cell_type": "markdown",
   "metadata": {},
   "source": [
    "\\begin{equation*}\n",
    "\\mathcal{L} =\\frac{1}{N}\\sum_{k=1}^{N} (y_n-\\hat{y}_n)^2\n",
    "\\end{equation*}"
   ]
  },
  {
   "cell_type": "code",
   "execution_count": 84,
   "metadata": {},
   "outputs": [
    {
     "name": "stdout",
     "output_type": "stream",
     "text": [
      "0.78980935\n"
     ]
    }
   ],
   "source": [
    "from sklearn.metrics import mean_squared_error\n",
    "error = mean_squared_error(predicts,generate_dataset(set_test))\n",
    "print(error)"
   ]
  },
  {
   "cell_type": "markdown",
   "metadata": {},
   "source": [
    "## Importando o KNN Regressor do Sklearning. Usando K = 5."
   ]
  },
  {
   "cell_type": "markdown",
   "metadata": {},
   "source": [
    "### Fazendo a utilização dos dados de treinamento100 e o classesKnn100 para treinamento."
   ]
  },
  {
   "cell_type": "code",
   "execution_count": 85,
   "metadata": {},
   "outputs": [
    {
     "data": {
      "text/plain": [
       "KNeighborsRegressor(algorithm='auto', leaf_size=30, metric='minkowski',\n",
       "                    metric_params=None, n_jobs=None, n_neighbors=5, p=2,\n",
       "                    weights='uniform')"
      ]
     },
     "execution_count": 85,
     "metadata": {},
     "output_type": "execute_result"
    }
   ],
   "source": [
    "from sklearn.neighbors import KNeighborsRegressor\n",
    "knn = KNeighborsRegressor(n_neighbors = 5)\n",
    "knn.fit(dados_treinamento_100.view(-1,1),classesKnn100.view(-1,1))"
   ]
  },
  {
   "cell_type": "markdown",
   "metadata": {},
   "source": [
    "## Plotando predições para K = 5 e utilizando classesKnn100."
   ]
  },
  {
   "cell_type": "code",
   "execution_count": 86,
   "metadata": {},
   "outputs": [
    {
     "data": {
      "text/plain": [
       "[<matplotlib.lines.Line2D at 0x7fe2cac21590>]"
      ]
     },
     "execution_count": 86,
     "metadata": {},
     "output_type": "execute_result"
    },
    {
     "data": {
      "image/png": "[encoded data removed]",
      "text/plain": [
       "<Figure size 432x288 with 1 Axes>"
      ]
     },
     "metadata": {
      "needs_background": "light"
     },
     "output_type": "display_data"
    }
   ],
   "source": [
    "predicts = knn.predict(set_test.view(-1,1))\n",
    "plt.plot(set_test,predicts, '.')"
   ]
  },
  {
   "cell_type": "code",
   "execution_count": 87,
   "metadata": {},
   "outputs": [
    {
     "data": {
      "text/plain": [
       "[<matplotlib.lines.Line2D at 0x7fe2cabe6e50>]"
      ]
     },
     "execution_count": 87,
     "metadata": {},
     "output_type": "execute_result"
    },
    {
     "data": {
      "image/png": "[encoded data removed]",
      "text/plain": [
       "<Figure size 432x288 with 1 Axes>"
      ]
     },
     "metadata": {
      "needs_background": "light"
     },
     "output_type": "display_data"
    }
   ],
   "source": [
    "plt.plot(set_test,predicts, '.')\n",
    "plt.plot(set_test, generate_dataset(set_test),'.', c = 'red')"
   ]
  },
  {
   "cell_type": "markdown",
   "metadata": {},
   "source": [
    "## Calculando o erro quadrático médio, representado por:"
   ]
  },
  {
   "cell_type": "markdown",
   "metadata": {},
   "source": [
    "\\begin{equation*}\n",
    "\\mathcal{L} =\\frac{1}{N}\\sum_{k=1}^{N} (y_n-\\hat{y}_n)^2\n",
    "\\end{equation*}"
   ]
  },
  {
   "cell_type": "code",
   "execution_count": 88,
   "metadata": {},
   "outputs": [
    {
     "name": "stdout",
     "output_type": "stream",
     "text": [
      "0.022630164\n"
     ]
    }
   ],
   "source": [
    "from sklearn.metrics import mean_squared_error\n",
    "error = mean_squared_error(predicts,generate_dataset(set_test))\n",
    "print(error)"
   ]
  },
  {
   "cell_type": "code",
   "execution_count": null,
   "metadata": {},
   "outputs": [],
   "source": []
  }
 ],
 "metadata": {
  "kernelspec": {
   "display_name": "Python 3",
   "language": "python",
   "name": "python3"
  },
  "language_info": {
   "codemirror_mode": {
    "name": "ipython",
    "version": 3
   },
   "file_extension": ".py",
   "mimetype": "text/x-python",
   "name": "python",
   "nbconvert_exporter": "python",
   "pygments_lexer": "ipython3",
   "version": "3.7.4"
  }
 },
 "nbformat": 4,
 "nbformat_minor": 2
}
