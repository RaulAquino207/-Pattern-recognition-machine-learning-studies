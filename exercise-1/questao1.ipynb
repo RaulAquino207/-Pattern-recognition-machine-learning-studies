{
 "cells": [
  {
   "cell_type": "markdown",
   "metadata": {},
   "source": [
    "# Execícios RPAD\n",
    "## DUPLA: Raul Aquino e Paulo Marvin\n",
    "### Knn - questão 1"
   ]
  },
  {
   "cell_type": "markdown",
   "metadata": {},
   "source": [
    "## Importações básicas."
   ]
  },
  {
   "cell_type": "code",
   "execution_count": 1,
   "metadata": {},
   "outputs": [],
   "source": [
    "import pandas as pd\n",
    "from pandas import read_csv\n",
    "import matplotlib.pyplot as plt\n",
    "import torch \n",
    "import numpy as np"
   ]
  },
  {
   "cell_type": "markdown",
   "metadata": {},
   "source": [
    "## Fazendo leitura do CSV."
   ]
  },
  {
   "cell_type": "code",
   "execution_count": 2,
   "metadata": {},
   "outputs": [
    {
     "data": {
      "text/plain": [
       "tensor([[-1.7140e-01,  7.6679e-02,  1.0000e+00],\n",
       "        [ 1.4618e-01,  5.1338e-01,  1.0000e+00],\n",
       "        [-1.4826e-01, -1.7251e-01,  1.0000e+00],\n",
       "        [ 3.7678e-01, -4.6142e-02,  1.0000e+00],\n",
       "        [-9.3847e-02, -5.1175e-01,  1.0000e+00],\n",
       "        [-4.4328e-01,  2.5994e-01,  1.0000e+00],\n",
       "        [ 8.3107e-02,  4.7007e-01,  1.0000e+00],\n",
       "        [ 3.8904e-02,  6.8119e-01,  1.0000e+00],\n",
       "        [-1.6134e-01,  2.7318e-02,  1.0000e+00],\n",
       "        [-3.1653e-01,  1.5276e-01,  1.0000e+00],\n",
       "        [-7.0496e-01,  1.5449e-01,  1.0000e+00],\n",
       "        [ 6.4703e-01, -2.6223e-01,  1.0000e+00],\n",
       "        [-8.0029e-02,  1.9990e-01,  1.0000e+00],\n",
       "        [-1.5821e-01,  3.2903e-02,  1.0000e+00],\n",
       "        [ 2.8942e-01,  3.6558e-01,  1.0000e+00],\n",
       "        [-1.6245e-01, -2.7283e-01,  1.0000e+00],\n",
       "        [-9.9748e-02,  9.8087e-02,  1.0000e+00],\n",
       "        [-4.2068e-02, -3.6446e-01,  1.0000e+00],\n",
       "        [-3.1559e-01,  3.6847e-01,  1.0000e+00],\n",
       "        [ 8.8728e-02, -4.8856e-01,  1.0000e+00],\n",
       "        [ 2.4100e-01, -4.3156e-01,  1.0000e+00],\n",
       "        [-1.6228e-01, -2.0051e-01,  1.0000e+00],\n",
       "        [-1.5052e-01,  1.2140e-01,  1.0000e+00],\n",
       "        [ 3.0185e-01,  3.0389e-01,  1.0000e+00],\n",
       "        [ 2.7058e-01,  3.6091e-01,  1.0000e+00],\n",
       "        [ 5.8670e-01,  3.4914e-01,  1.0000e+00],\n",
       "        [ 5.8657e-04, -1.0913e-01,  1.0000e+00],\n",
       "        [ 1.3915e-01, -4.3188e-01,  1.0000e+00],\n",
       "        [-1.9230e-01,  8.2995e-02,  1.0000e+00],\n",
       "        [-1.8402e-01, -1.4853e-01,  1.0000e+00],\n",
       "        [ 1.6676e-01,  4.3764e-01,  1.0000e+00],\n",
       "        [ 3.3213e-01, -1.6413e-01,  1.0000e+00],\n",
       "        [-2.0025e-02,  4.3560e-01,  1.0000e+00],\n",
       "        [ 2.9752e-01, -1.0654e-01,  1.0000e+00],\n",
       "        [-9.0252e-02,  1.7263e-01,  1.0000e+00],\n",
       "        [-1.4790e-01, -2.7241e-01,  1.0000e+00],\n",
       "        [-1.6943e-01, -4.9008e-01,  1.0000e+00],\n",
       "        [-5.7881e-02,  3.7056e-01,  1.0000e+00],\n",
       "        [-1.0056e-01, -1.0740e-01,  1.0000e+00],\n",
       "        [-2.9156e-01, -3.6169e-02,  1.0000e+00],\n",
       "        [ 5.6325e-01, -2.5759e-01,  1.0000e+00],\n",
       "        [ 8.4690e-02, -2.9655e-01,  1.0000e+00],\n",
       "        [-2.2092e-01, -3.2877e-01,  1.0000e+00],\n",
       "        [ 3.8065e-01, -8.1338e-02,  1.0000e+00],\n",
       "        [ 7.1783e-01,  5.3654e-01,  1.0000e+00],\n",
       "        [-4.4363e-01,  1.2553e-01,  1.0000e+00],\n",
       "        [ 4.1486e-01,  1.0285e-01,  1.0000e+00],\n",
       "        [-9.1188e-01, -5.4714e-01,  1.0000e+00],\n",
       "        [-3.8857e-02, -3.1162e-02,  1.0000e+00],\n",
       "        [-3.6085e-01,  5.6262e-01,  1.0000e+00],\n",
       "        [ 2.1706e-01, -2.1543e-01,  1.0000e+00],\n",
       "        [ 1.6941e-01, -3.6701e-01,  1.0000e+00],\n",
       "        [ 3.6461e-01,  4.9333e-01,  1.0000e+00],\n",
       "        [-1.6913e-01,  3.3494e-01,  1.0000e+00],\n",
       "        [-4.3754e-01,  1.3483e-01,  1.0000e+00],\n",
       "        [-2.7749e-01,  1.2546e-01,  1.0000e+00],\n",
       "        [-5.2250e-01, -1.1003e-01,  1.0000e+00],\n",
       "        [ 3.6199e-02, -6.2123e-01,  1.0000e+00],\n",
       "        [ 2.0324e-01, -3.7511e-01,  1.0000e+00],\n",
       "        [-3.7742e-01,  1.6384e-01,  1.0000e+00],\n",
       "        [ 4.4582e-01,  2.7805e-01,  1.0000e+00],\n",
       "        [ 3.7778e-02,  3.9581e-01,  1.0000e+00],\n",
       "        [-2.7689e-01,  1.1177e-01,  1.0000e+00],\n",
       "        [-6.7392e-01,  2.5465e-01,  1.0000e+00],\n",
       "        [ 1.7840e-01,  4.0217e-01,  1.0000e+00],\n",
       "        [-2.7548e-01, -1.3302e-01,  1.0000e+00],\n",
       "        [-2.9556e-02,  1.5236e-01,  1.0000e+00],\n",
       "        [-1.9973e-01, -7.7750e-02,  1.0000e+00],\n",
       "        [-4.4572e-02, -3.8863e-01,  1.0000e+00],\n",
       "        [ 1.7994e-01, -4.9288e-02,  1.0000e+00],\n",
       "        [-1.1485e-01, -3.7644e-01,  1.0000e+00],\n",
       "        [-3.0135e-01, -7.6507e-02,  1.0000e+00],\n",
       "        [-2.7582e-02,  1.4541e-01,  1.0000e+00],\n",
       "        [-6.0050e-02, -2.7389e-01,  1.0000e+00],\n",
       "        [-5.7813e-01, -4.6248e-03,  1.0000e+00],\n",
       "        [ 2.1438e-01, -6.0600e-03,  1.0000e+00],\n",
       "        [-1.7453e-01,  2.1691e-01,  1.0000e+00],\n",
       "        [ 2.7385e-01,  2.3332e-01,  1.0000e+00],\n",
       "        [ 2.5798e-01,  6.9902e-01,  1.0000e+00],\n",
       "        [-2.1601e-02, -1.4301e-01,  1.0000e+00],\n",
       "        [ 2.5709e-02, -1.4211e-02,  1.0000e+00],\n",
       "        [-2.0790e-01,  1.1677e-01,  1.0000e+00],\n",
       "        [-4.2385e-01,  7.4115e-02,  1.0000e+00],\n",
       "        [-9.5424e-02,  4.9386e-01,  1.0000e+00],\n",
       "        [-4.3239e-01,  3.9623e-02,  1.0000e+00],\n",
       "        [ 2.7793e-02, -2.1891e-02,  1.0000e+00],\n",
       "        [ 2.4063e-02, -1.5871e-01,  1.0000e+00],\n",
       "        [-4.4009e-01,  3.3468e-01,  1.0000e+00],\n",
       "        [-1.4286e-01, -1.1834e-01,  1.0000e+00],\n",
       "        [-3.2164e-01,  3.1422e-01,  1.0000e+00],\n",
       "        [-2.8678e-01,  5.2937e-02,  1.0000e+00],\n",
       "        [-4.8165e-01, -2.2244e-01,  1.0000e+00],\n",
       "        [-2.7384e-01,  5.3982e-02,  1.0000e+00],\n",
       "        [ 1.3093e-01,  1.0568e-02,  1.0000e+00],\n",
       "        [ 4.8062e-01, -4.7228e-02,  1.0000e+00],\n",
       "        [ 6.1453e-02, -5.8876e-01,  1.0000e+00],\n",
       "        [ 5.9606e-01, -6.2793e-02,  1.0000e+00],\n",
       "        [ 1.3394e-01,  3.2884e-01,  1.0000e+00],\n",
       "        [ 2.1669e-02,  4.9805e-02,  1.0000e+00],\n",
       "        [ 2.3573e-01,  1.0909e-01,  1.0000e+00],\n",
       "        [ 9.1580e-01,  1.6240e-01,  0.0000e+00],\n",
       "        [ 4.0065e-02,  4.3298e-01,  0.0000e+00],\n",
       "        [ 7.2484e-01,  7.6204e-02,  0.0000e+00],\n",
       "        [ 5.2102e-01,  6.7847e-01,  0.0000e+00],\n",
       "        [ 5.4162e-01,  2.8182e-01,  0.0000e+00],\n",
       "        [ 5.2811e-01, -1.7391e-01,  0.0000e+00],\n",
       "        [ 4.8723e-01,  2.2122e-01,  0.0000e+00],\n",
       "        [ 4.7669e-01,  1.5738e+00,  0.0000e+00],\n",
       "        [ 9.5818e-01,  3.6550e-02,  0.0000e+00],\n",
       "        [ 9.5934e-01,  3.1076e-01,  0.0000e+00],\n",
       "        [-4.3171e-02,  4.2666e-01,  0.0000e+00],\n",
       "        [ 5.0073e-01,  7.1659e-01,  0.0000e+00],\n",
       "        [ 1.5267e-01,  5.6161e-01,  0.0000e+00],\n",
       "        [ 1.1704e-01,  7.1560e-01,  0.0000e+00],\n",
       "        [ 2.6448e-01,  3.7553e-01,  0.0000e+00],\n",
       "        [ 9.4642e-02,  1.0820e+00,  0.0000e+00],\n",
       "        [ 5.3067e-01,  4.4665e-03,  0.0000e+00],\n",
       "        [ 5.1640e-01,  4.2719e-01,  0.0000e+00],\n",
       "        [ 1.0752e-01,  1.0178e+00,  0.0000e+00],\n",
       "        [ 4.8637e-01,  2.7986e-01,  0.0000e+00],\n",
       "        [ 3.5456e-01,  4.8059e-01,  0.0000e+00],\n",
       "        [ 5.1009e-01,  6.1539e-01,  0.0000e+00],\n",
       "        [-5.3771e-03,  3.2852e-01,  0.0000e+00],\n",
       "        [ 1.3533e+00,  3.7226e-01,  0.0000e+00],\n",
       "        [ 8.5996e-02,  2.2070e-01,  0.0000e+00],\n",
       "        [ 7.0095e-01,  6.0251e-01,  0.0000e+00],\n",
       "        [ 2.6683e-01,  3.2792e-01,  0.0000e+00],\n",
       "        [ 7.0370e-01,  8.5990e-01,  0.0000e+00],\n",
       "        [ 6.2125e-01,  3.8307e-01,  0.0000e+00],\n",
       "        [ 4.4317e-01,  1.1519e+00,  0.0000e+00],\n",
       "        [ 3.8786e-01,  5.3444e-01,  0.0000e+00],\n",
       "        [ 5.7340e-01,  8.6002e-01,  0.0000e+00],\n",
       "        [ 4.3188e-01,  7.4331e-01,  0.0000e+00],\n",
       "        [ 8.5364e-01,  1.1258e+00,  0.0000e+00],\n",
       "        [ 2.0470e-01,  1.2032e+00,  0.0000e+00],\n",
       "        [ 4.6020e-01,  2.5271e-01,  0.0000e+00],\n",
       "        [ 8.1474e-01,  1.6659e-01,  0.0000e+00],\n",
       "        [ 2.7443e-01,  4.6645e-01,  0.0000e+00],\n",
       "        [ 8.5394e-01,  7.9428e-01,  0.0000e+00],\n",
       "        [ 7.6737e-02,  6.1654e-01,  0.0000e+00],\n",
       "        [ 5.8382e-01,  6.8123e-01,  0.0000e+00],\n",
       "        [ 1.6671e-01,  4.5681e-01,  0.0000e+00],\n",
       "        [ 7.9253e-01,  3.1349e-01,  0.0000e+00],\n",
       "        [ 3.2908e-01,  2.6155e-01,  0.0000e+00],\n",
       "        [ 9.8345e-01,  3.9782e-01,  0.0000e+00],\n",
       "        [ 6.3869e-01,  4.0653e-01,  0.0000e+00],\n",
       "        [-7.0393e-02,  6.4681e-01,  0.0000e+00],\n",
       "        [ 4.0531e-01,  1.2879e-01,  0.0000e+00],\n",
       "        [ 9.0603e-01, -2.1710e-01,  0.0000e+00],\n",
       "        [ 4.9491e-01,  5.5987e-01,  0.0000e+00],\n",
       "        [ 5.5906e-01,  5.6468e-01,  0.0000e+00],\n",
       "        [ 1.0416e+00,  1.0026e+00,  0.0000e+00],\n",
       "        [ 4.9173e-01,  3.5025e-01,  0.0000e+00],\n",
       "        [-2.1336e-02,  5.0600e-01,  0.0000e+00],\n",
       "        [ 6.8586e-01,  4.4987e-01,  0.0000e+00],\n",
       "        [ 4.5981e-01,  2.6268e-01,  0.0000e+00],\n",
       "        [ 7.7613e-01,  5.6687e-02,  0.0000e+00],\n",
       "        [-3.2805e-01,  4.6553e-01,  0.0000e+00],\n",
       "        [ 5.4366e-01,  5.8955e-01,  0.0000e+00],\n",
       "        [ 5.5113e-01,  3.9967e-01,  0.0000e+00],\n",
       "        [ 2.8409e-01,  4.2423e-01,  0.0000e+00],\n",
       "        [ 8.0480e-01,  7.9552e-01,  0.0000e+00],\n",
       "        [ 6.6880e-01,  1.7599e-01,  0.0000e+00],\n",
       "        [ 6.0328e-01, -1.4256e-01,  0.0000e+00],\n",
       "        [ 4.5428e-01,  7.7901e-01,  0.0000e+00],\n",
       "        [ 7.4302e-01,  5.4761e-01,  0.0000e+00],\n",
       "        [-2.5847e-02,  1.6915e-01,  0.0000e+00],\n",
       "        [ 1.6442e-01,  1.9006e-02,  0.0000e+00],\n",
       "        [ 4.7161e-01,  7.5012e-01,  0.0000e+00],\n",
       "        [ 2.1689e-01,  9.2100e-01,  0.0000e+00],\n",
       "        [ 7.8405e-01,  1.0777e+00,  0.0000e+00],\n",
       "        [ 2.2950e-01,  5.3987e-01,  0.0000e+00],\n",
       "        [ 2.3940e-01,  6.2441e-02,  0.0000e+00],\n",
       "        [ 7.2098e-01,  5.1143e-01,  0.0000e+00],\n",
       "        [ 7.1547e-01,  1.7528e-01,  0.0000e+00],\n",
       "        [ 3.0642e-01,  1.0133e+00,  0.0000e+00],\n",
       "        [ 3.2665e-01, -4.0935e-01,  0.0000e+00],\n",
       "        [ 6.7385e-01,  3.0896e-01,  0.0000e+00],\n",
       "        [ 8.6170e-01, -3.2368e-02,  0.0000e+00],\n",
       "        [ 6.0559e-01,  3.3643e-03,  0.0000e+00],\n",
       "        [ 9.1846e-01,  7.1621e-01,  0.0000e+00],\n",
       "        [ 4.8062e-01,  3.6614e-01,  0.0000e+00],\n",
       "        [ 4.4521e-01,  6.6293e-02,  0.0000e+00],\n",
       "        [ 1.2410e+00,  2.3500e-01,  0.0000e+00],\n",
       "        [ 9.4617e-01,  8.1024e-01,  0.0000e+00],\n",
       "        [ 7.9810e-01,  6.8947e-02,  0.0000e+00],\n",
       "        [ 6.2557e-01,  2.2889e-01,  0.0000e+00],\n",
       "        [ 2.5800e-01,  5.1752e-01,  0.0000e+00],\n",
       "        [ 9.2874e-01,  5.1174e-01,  0.0000e+00],\n",
       "        [ 1.9127e-01,  2.6044e-01,  0.0000e+00],\n",
       "        [ 9.0040e-01,  5.5257e-01,  0.0000e+00],\n",
       "        [ 6.3635e-01,  7.2786e-01,  0.0000e+00],\n",
       "        [ 8.3556e-01,  5.1318e-01,  0.0000e+00],\n",
       "        [ 5.4880e-01, -2.1542e-01,  0.0000e+00],\n",
       "        [ 3.5022e-01,  4.6592e-01,  0.0000e+00],\n",
       "        [ 1.4929e-01,  7.5194e-01,  0.0000e+00],\n",
       "        [ 2.8213e-01,  7.9956e-01,  0.0000e+00],\n",
       "        [ 8.0766e-01,  5.5988e-01,  0.0000e+00],\n",
       "        [ 6.6086e-01,  3.7848e-02,  0.0000e+00],\n",
       "        [ 3.7448e-01, -3.9462e-01,  0.0000e+00]], dtype=torch.float64)"
      ]
     },
     "execution_count": 2,
     "metadata": {},
     "output_type": "execute_result"
    }
   ],
   "source": [
    "names = ['x1','x2','classes']\n",
    "df_ex1 = read_csv('dados-ex1-1.csv',names=names)\n",
    "values = df_ex1.values\n",
    "tensor_df_ex1 = torch.from_numpy(values)\n",
    "tensor_df_ex1"
   ]
  },
  {
   "cell_type": "markdown",
   "metadata": {},
   "source": [
    "## Pegando dados de treino."
   ]
  },
  {
   "cell_type": "code",
   "execution_count": 3,
   "metadata": {},
   "outputs": [
    {
     "data": {
      "text/plain": [
       "tensor([[-1.7140e-01,  7.6679e-02],\n",
       "        [ 1.4618e-01,  5.1338e-01],\n",
       "        [-1.4826e-01, -1.7251e-01],\n",
       "        [ 3.7678e-01, -4.6142e-02],\n",
       "        [-9.3847e-02, -5.1175e-01],\n",
       "        [-4.4328e-01,  2.5994e-01],\n",
       "        [ 8.3107e-02,  4.7007e-01],\n",
       "        [ 3.8904e-02,  6.8119e-01],\n",
       "        [-1.6134e-01,  2.7318e-02],\n",
       "        [-3.1653e-01,  1.5276e-01],\n",
       "        [-7.0496e-01,  1.5449e-01],\n",
       "        [ 6.4703e-01, -2.6223e-01],\n",
       "        [-8.0029e-02,  1.9990e-01],\n",
       "        [-1.5821e-01,  3.2903e-02],\n",
       "        [ 2.8942e-01,  3.6558e-01],\n",
       "        [-1.6245e-01, -2.7283e-01],\n",
       "        [-9.9748e-02,  9.8087e-02],\n",
       "        [-4.2068e-02, -3.6446e-01],\n",
       "        [-3.1559e-01,  3.6847e-01],\n",
       "        [ 8.8728e-02, -4.8856e-01],\n",
       "        [ 2.4100e-01, -4.3156e-01],\n",
       "        [-1.6228e-01, -2.0051e-01],\n",
       "        [-1.5052e-01,  1.2140e-01],\n",
       "        [ 3.0185e-01,  3.0389e-01],\n",
       "        [ 2.7058e-01,  3.6091e-01],\n",
       "        [ 5.8670e-01,  3.4914e-01],\n",
       "        [ 5.8657e-04, -1.0913e-01],\n",
       "        [ 1.3915e-01, -4.3188e-01],\n",
       "        [-1.9230e-01,  8.2995e-02],\n",
       "        [-1.8402e-01, -1.4853e-01],\n",
       "        [ 1.6676e-01,  4.3764e-01],\n",
       "        [ 3.3213e-01, -1.6413e-01],\n",
       "        [-2.0025e-02,  4.3560e-01],\n",
       "        [ 2.9752e-01, -1.0654e-01],\n",
       "        [-9.0252e-02,  1.7263e-01],\n",
       "        [-1.4790e-01, -2.7241e-01],\n",
       "        [-1.6943e-01, -4.9008e-01],\n",
       "        [-5.7881e-02,  3.7056e-01],\n",
       "        [-1.0056e-01, -1.0740e-01],\n",
       "        [-2.9156e-01, -3.6169e-02],\n",
       "        [ 5.6325e-01, -2.5759e-01],\n",
       "        [ 8.4690e-02, -2.9655e-01],\n",
       "        [-2.2092e-01, -3.2877e-01],\n",
       "        [ 3.8065e-01, -8.1338e-02],\n",
       "        [ 7.1783e-01,  5.3654e-01],\n",
       "        [-4.4363e-01,  1.2553e-01],\n",
       "        [ 4.1486e-01,  1.0285e-01],\n",
       "        [-9.1188e-01, -5.4714e-01],\n",
       "        [-3.8857e-02, -3.1162e-02],\n",
       "        [-3.6085e-01,  5.6262e-01],\n",
       "        [ 2.1706e-01, -2.1543e-01],\n",
       "        [ 1.6941e-01, -3.6701e-01],\n",
       "        [ 3.6461e-01,  4.9333e-01],\n",
       "        [-1.6913e-01,  3.3494e-01],\n",
       "        [-4.3754e-01,  1.3483e-01],\n",
       "        [-2.7749e-01,  1.2546e-01],\n",
       "        [-5.2250e-01, -1.1003e-01],\n",
       "        [ 3.6199e-02, -6.2123e-01],\n",
       "        [ 2.0324e-01, -3.7511e-01],\n",
       "        [-3.7742e-01,  1.6384e-01],\n",
       "        [ 4.4582e-01,  2.7805e-01],\n",
       "        [ 3.7778e-02,  3.9581e-01],\n",
       "        [-2.7689e-01,  1.1177e-01],\n",
       "        [-6.7392e-01,  2.5465e-01],\n",
       "        [ 1.7840e-01,  4.0217e-01],\n",
       "        [-2.7548e-01, -1.3302e-01],\n",
       "        [-2.9556e-02,  1.5236e-01],\n",
       "        [-1.9973e-01, -7.7750e-02],\n",
       "        [-4.4572e-02, -3.8863e-01],\n",
       "        [ 1.7994e-01, -4.9288e-02],\n",
       "        [-1.1485e-01, -3.7644e-01],\n",
       "        [-3.0135e-01, -7.6507e-02],\n",
       "        [-2.7582e-02,  1.4541e-01],\n",
       "        [-6.0050e-02, -2.7389e-01],\n",
       "        [-5.7813e-01, -4.6248e-03],\n",
       "        [ 2.1438e-01, -6.0600e-03],\n",
       "        [-1.7453e-01,  2.1691e-01],\n",
       "        [ 2.7385e-01,  2.3332e-01],\n",
       "        [ 2.5798e-01,  6.9902e-01],\n",
       "        [-2.1601e-02, -1.4301e-01],\n",
       "        [ 2.5709e-02, -1.4211e-02],\n",
       "        [-2.0790e-01,  1.1677e-01],\n",
       "        [-4.2385e-01,  7.4115e-02],\n",
       "        [-9.5424e-02,  4.9386e-01],\n",
       "        [-4.3239e-01,  3.9623e-02],\n",
       "        [ 2.7793e-02, -2.1891e-02],\n",
       "        [ 2.4063e-02, -1.5871e-01],\n",
       "        [-4.4009e-01,  3.3468e-01],\n",
       "        [-1.4286e-01, -1.1834e-01],\n",
       "        [-3.2164e-01,  3.1422e-01],\n",
       "        [-2.8678e-01,  5.2937e-02],\n",
       "        [-4.8165e-01, -2.2244e-01],\n",
       "        [-2.7384e-01,  5.3982e-02],\n",
       "        [ 1.3093e-01,  1.0568e-02],\n",
       "        [ 4.8062e-01, -4.7228e-02],\n",
       "        [ 6.1453e-02, -5.8876e-01],\n",
       "        [ 5.9606e-01, -6.2793e-02],\n",
       "        [ 1.3394e-01,  3.2884e-01],\n",
       "        [ 2.1669e-02,  4.9805e-02],\n",
       "        [ 2.3573e-01,  1.0909e-01],\n",
       "        [ 9.1580e-01,  1.6240e-01],\n",
       "        [ 4.0065e-02,  4.3298e-01],\n",
       "        [ 7.2484e-01,  7.6204e-02],\n",
       "        [ 5.2102e-01,  6.7847e-01],\n",
       "        [ 5.4162e-01,  2.8182e-01],\n",
       "        [ 5.2811e-01, -1.7391e-01],\n",
       "        [ 4.8723e-01,  2.2122e-01],\n",
       "        [ 4.7669e-01,  1.5738e+00],\n",
       "        [ 9.5818e-01,  3.6550e-02],\n",
       "        [ 9.5934e-01,  3.1076e-01],\n",
       "        [-4.3171e-02,  4.2666e-01],\n",
       "        [ 5.0073e-01,  7.1659e-01],\n",
       "        [ 1.5267e-01,  5.6161e-01],\n",
       "        [ 1.1704e-01,  7.1560e-01],\n",
       "        [ 2.6448e-01,  3.7553e-01],\n",
       "        [ 9.4642e-02,  1.0820e+00],\n",
       "        [ 5.3067e-01,  4.4665e-03],\n",
       "        [ 5.1640e-01,  4.2719e-01],\n",
       "        [ 1.0752e-01,  1.0178e+00],\n",
       "        [ 4.8637e-01,  2.7986e-01],\n",
       "        [ 3.5456e-01,  4.8059e-01],\n",
       "        [ 5.1009e-01,  6.1539e-01],\n",
       "        [-5.3771e-03,  3.2852e-01],\n",
       "        [ 1.3533e+00,  3.7226e-01],\n",
       "        [ 8.5996e-02,  2.2070e-01],\n",
       "        [ 7.0095e-01,  6.0251e-01],\n",
       "        [ 2.6683e-01,  3.2792e-01],\n",
       "        [ 7.0370e-01,  8.5990e-01],\n",
       "        [ 6.2125e-01,  3.8307e-01],\n",
       "        [ 4.4317e-01,  1.1519e+00],\n",
       "        [ 3.8786e-01,  5.3444e-01],\n",
       "        [ 5.7340e-01,  8.6002e-01],\n",
       "        [ 4.3188e-01,  7.4331e-01],\n",
       "        [ 8.5364e-01,  1.1258e+00],\n",
       "        [ 2.0470e-01,  1.2032e+00],\n",
       "        [ 4.6020e-01,  2.5271e-01],\n",
       "        [ 8.1474e-01,  1.6659e-01],\n",
       "        [ 2.7443e-01,  4.6645e-01],\n",
       "        [ 8.5394e-01,  7.9428e-01],\n",
       "        [ 7.6737e-02,  6.1654e-01],\n",
       "        [ 5.8382e-01,  6.8123e-01],\n",
       "        [ 1.6671e-01,  4.5681e-01],\n",
       "        [ 7.9253e-01,  3.1349e-01],\n",
       "        [ 3.2908e-01,  2.6155e-01],\n",
       "        [ 9.8345e-01,  3.9782e-01],\n",
       "        [ 6.3869e-01,  4.0653e-01],\n",
       "        [-7.0393e-02,  6.4681e-01],\n",
       "        [ 4.0531e-01,  1.2879e-01],\n",
       "        [ 9.0603e-01, -2.1710e-01],\n",
       "        [ 4.9491e-01,  5.5987e-01],\n",
       "        [ 5.5906e-01,  5.6468e-01],\n",
       "        [ 1.0416e+00,  1.0026e+00],\n",
       "        [ 4.9173e-01,  3.5025e-01],\n",
       "        [-2.1336e-02,  5.0600e-01],\n",
       "        [ 6.8586e-01,  4.4987e-01],\n",
       "        [ 4.5981e-01,  2.6268e-01],\n",
       "        [ 7.7613e-01,  5.6687e-02],\n",
       "        [-3.2805e-01,  4.6553e-01],\n",
       "        [ 5.4366e-01,  5.8955e-01],\n",
       "        [ 5.5113e-01,  3.9967e-01],\n",
       "        [ 2.8409e-01,  4.2423e-01],\n",
       "        [ 8.0480e-01,  7.9552e-01],\n",
       "        [ 6.6880e-01,  1.7599e-01],\n",
       "        [ 6.0328e-01, -1.4256e-01],\n",
       "        [ 4.5428e-01,  7.7901e-01],\n",
       "        [ 7.4302e-01,  5.4761e-01],\n",
       "        [-2.5847e-02,  1.6915e-01],\n",
       "        [ 1.6442e-01,  1.9006e-02],\n",
       "        [ 4.7161e-01,  7.5012e-01],\n",
       "        [ 2.1689e-01,  9.2100e-01],\n",
       "        [ 7.8405e-01,  1.0777e+00],\n",
       "        [ 2.2950e-01,  5.3987e-01],\n",
       "        [ 2.3940e-01,  6.2441e-02],\n",
       "        [ 7.2098e-01,  5.1143e-01],\n",
       "        [ 7.1547e-01,  1.7528e-01],\n",
       "        [ 3.0642e-01,  1.0133e+00],\n",
       "        [ 3.2665e-01, -4.0935e-01],\n",
       "        [ 6.7385e-01,  3.0896e-01],\n",
       "        [ 8.6170e-01, -3.2368e-02],\n",
       "        [ 6.0559e-01,  3.3643e-03],\n",
       "        [ 9.1846e-01,  7.1621e-01],\n",
       "        [ 4.8062e-01,  3.6614e-01],\n",
       "        [ 4.4521e-01,  6.6293e-02],\n",
       "        [ 1.2410e+00,  2.3500e-01],\n",
       "        [ 9.4617e-01,  8.1024e-01],\n",
       "        [ 7.9810e-01,  6.8947e-02],\n",
       "        [ 6.2557e-01,  2.2889e-01],\n",
       "        [ 2.5800e-01,  5.1752e-01],\n",
       "        [ 9.2874e-01,  5.1174e-01],\n",
       "        [ 1.9127e-01,  2.6044e-01],\n",
       "        [ 9.0040e-01,  5.5257e-01],\n",
       "        [ 6.3635e-01,  7.2786e-01],\n",
       "        [ 8.3556e-01,  5.1318e-01],\n",
       "        [ 5.4880e-01, -2.1542e-01],\n",
       "        [ 3.5022e-01,  4.6592e-01],\n",
       "        [ 1.4929e-01,  7.5194e-01],\n",
       "        [ 2.8213e-01,  7.9956e-01],\n",
       "        [ 8.0766e-01,  5.5988e-01],\n",
       "        [ 6.6086e-01,  3.7848e-02],\n",
       "        [ 3.7448e-01, -3.9462e-01]], dtype=torch.float64)"
      ]
     },
     "execution_count": 3,
     "metadata": {},
     "output_type": "execute_result"
    }
   ],
   "source": [
    "training = tensor_df_ex1[:,:2]\n",
    "training"
   ]
  },
  {
   "cell_type": "markdown",
   "metadata": {},
   "source": [
    "## Pegando classes."
   ]
  },
  {
   "cell_type": "code",
   "execution_count": 4,
   "metadata": {},
   "outputs": [
    {
     "data": {
      "text/plain": [
       "tensor([1., 1., 1., 1., 1., 1., 1., 1., 1., 1., 1., 1., 1., 1., 1., 1., 1., 1.,\n",
       "        1., 1., 1., 1., 1., 1., 1., 1., 1., 1., 1., 1., 1., 1., 1., 1., 1., 1.,\n",
       "        1., 1., 1., 1., 1., 1., 1., 1., 1., 1., 1., 1., 1., 1., 1., 1., 1., 1.,\n",
       "        1., 1., 1., 1., 1., 1., 1., 1., 1., 1., 1., 1., 1., 1., 1., 1., 1., 1.,\n",
       "        1., 1., 1., 1., 1., 1., 1., 1., 1., 1., 1., 1., 1., 1., 1., 1., 1., 1.,\n",
       "        1., 1., 1., 1., 1., 1., 1., 1., 1., 1., 0., 0., 0., 0., 0., 0., 0., 0.,\n",
       "        0., 0., 0., 0., 0., 0., 0., 0., 0., 0., 0., 0., 0., 0., 0., 0., 0., 0.,\n",
       "        0., 0., 0., 0., 0., 0., 0., 0., 0., 0., 0., 0., 0., 0., 0., 0., 0., 0.,\n",
       "        0., 0., 0., 0., 0., 0., 0., 0., 0., 0., 0., 0., 0., 0., 0., 0., 0., 0.,\n",
       "        0., 0., 0., 0., 0., 0., 0., 0., 0., 0., 0., 0., 0., 0., 0., 0., 0., 0.,\n",
       "        0., 0., 0., 0., 0., 0., 0., 0., 0., 0., 0., 0., 0., 0., 0., 0., 0., 0.,\n",
       "        0., 0.], dtype=torch.float64)"
      ]
     },
     "execution_count": 4,
     "metadata": {},
     "output_type": "execute_result"
    }
   ],
   "source": [
    "classes = tensor_df_ex1[:,2]\n",
    "classes"
   ]
  },
  {
   "cell_type": "markdown",
   "metadata": {},
   "source": [
    "## Importando o KNN do Sklearning. Usando K = 1."
   ]
  },
  {
   "cell_type": "code",
   "execution_count": 5,
   "metadata": {},
   "outputs": [],
   "source": [
    "from sklearn.neighbors import KNeighborsClassifier\n",
    "knn = KNeighborsClassifier(n_neighbors = 1)"
   ]
  },
  {
   "cell_type": "markdown",
   "metadata": {},
   "source": [
    "## Efetuando treinamento para K = 1."
   ]
  },
  {
   "cell_type": "code",
   "execution_count": 19,
   "metadata": {},
   "outputs": [
    {
     "data": {
      "text/plain": [
       "KNeighborsClassifier(algorithm='auto', leaf_size=30, metric='minkowski',\n",
       "                     metric_params=None, n_jobs=None, n_neighbors=1, p=2,\n",
       "                     weights='uniform')"
      ]
     },
     "execution_count": 19,
     "metadata": {},
     "output_type": "execute_result"
    }
   ],
   "source": [
    "knn.fit(training,classes)"
   ]
  },
  {
   "cell_type": "markdown",
   "metadata": {},
   "source": [
    "## Teste simples com dados do começo, meio e fim da base de treino para K = 1."
   ]
  },
  {
   "cell_type": "code",
   "execution_count": 20,
   "metadata": {},
   "outputs": [
    {
     "name": "stdout",
     "output_type": "stream",
     "text": [
      "[1. 1. 0. 0.]\n"
     ]
    }
   ],
   "source": [
    "test = knn.predict([[ 1.4618e-01,  5.1338e-01],[ 4.8062e-01, -4.7228e-02],[ 5.0073e-01,  7.1659e-01] ,[ 3.7448e-01, -3.9462e-01] ])\n",
    "print(test)"
   ]
  },
  {
   "cell_type": "markdown",
   "metadata": {},
   "source": [
    "## Criando dados de teste."
   ]
  },
  {
   "cell_type": "code",
   "execution_count": 21,
   "metadata": {},
   "outputs": [],
   "source": [
    "import torch.distributions.uniform as dist\n",
    "d = dist.Uniform(-1*torch.ones(10000),torch.ones(10000))\n",
    "a = dist.Uniform(-1*torch.ones(10000),torch.ones(10000))\n",
    "test_entries1 = d.sample()\n",
    "test_entries2 = a.sample()"
   ]
  },
  {
   "cell_type": "markdown",
   "metadata": {},
   "source": [
    "## Criando função para plotar os dados no gráfico."
   ]
  },
  {
   "cell_type": "code",
   "execution_count": 22,
   "metadata": {},
   "outputs": [],
   "source": [
    "amarelo = \"yellow\"\n",
    "preto = \"black\"\n",
    "def plotar(x,y):\n",
    "    for i in range(10000):\n",
    "        if(knn.predict([[x[i],y[i]]]) == 1):\n",
    "            plt.scatter(x[i],y[i], marker='o', c=amarelo)\n",
    "        else:\n",
    "            plt.scatter(x[i],y[i], marker='o', c=preto)\n",
    "        "
   ]
  },
  {
   "cell_type": "markdown",
   "metadata": {},
   "source": [
    "## Dispersão dos dados para K = 1."
   ]
  },
  {
   "cell_type": "code",
   "execution_count": 23,
   "metadata": {},
   "outputs": [
    {
     "data": {
      "image/png": "[encoded data removed]",
      "text/plain": [
       "<Figure size 432x288 with 1 Axes>"
      ]
     },
     "metadata": {
      "needs_background": "light"
     },
     "output_type": "display_data"
    }
   ],
   "source": [
    "plotar(test_entries1,test_entries2)"
   ]
  },
  {
   "cell_type": "markdown",
   "metadata": {},
   "source": [
    "## Importando o KNN do Sklearning. Usando K = 3."
   ]
  },
  {
   "cell_type": "code",
   "execution_count": 24,
   "metadata": {},
   "outputs": [],
   "source": [
    "from sklearn.neighbors import KNeighborsClassifier\n",
    "knn = KNeighborsClassifier(n_neighbors = 3)"
   ]
  },
  {
   "cell_type": "markdown",
   "metadata": {},
   "source": [
    "## Efetuando treinamento para K = 3."
   ]
  },
  {
   "cell_type": "code",
   "execution_count": 25,
   "metadata": {},
   "outputs": [
    {
     "data": {
      "text/plain": [
       "KNeighborsClassifier(algorithm='auto', leaf_size=30, metric='minkowski',\n",
       "                     metric_params=None, n_jobs=None, n_neighbors=3, p=2,\n",
       "                     weights='uniform')"
      ]
     },
     "execution_count": 25,
     "metadata": {},
     "output_type": "execute_result"
    }
   ],
   "source": [
    "knn.fit(training,classes)"
   ]
  },
  {
   "cell_type": "markdown",
   "metadata": {},
   "source": [
    "## Teste simples com dados do começo, meio e fim da base de treino para K = 3."
   ]
  },
  {
   "cell_type": "code",
   "execution_count": 26,
   "metadata": {},
   "outputs": [
    {
     "name": "stdout",
     "output_type": "stream",
     "text": [
      "[0. 1. 0. 0.]\n"
     ]
    }
   ],
   "source": [
    "test = knn.predict([[ 1.4618e-01,  5.1338e-01],[ 4.8062e-01, -4.7228e-02],[ 5.0073e-01,  7.1659e-01] ,[ 3.7448e-01, -3.9462e-01] ])\n",
    "print(test)"
   ]
  },
  {
   "cell_type": "markdown",
   "metadata": {},
   "source": [
    "## Dispersão dos dados para K = 3."
   ]
  },
  {
   "cell_type": "code",
   "execution_count": 27,
   "metadata": {},
   "outputs": [
    {
     "data": {
      "image/png": "[encoded data removed]",
      "text/plain": [
       "<Figure size 432x288 with 1 Axes>"
      ]
     },
     "metadata": {
      "needs_background": "light"
     },
     "output_type": "display_data"
    }
   ],
   "source": [
    "plotar(test_entries1,test_entries2)"
   ]
  },
  {
   "cell_type": "markdown",
   "metadata": {},
   "source": [
    "## Importando o KNN do Sklearning. Usando K = 9."
   ]
  },
  {
   "cell_type": "code",
   "execution_count": 28,
   "metadata": {},
   "outputs": [],
   "source": [
    "from sklearn.neighbors import KNeighborsClassifier\n",
    "knn = KNeighborsClassifier(n_neighbors = 9)"
   ]
  },
  {
   "cell_type": "markdown",
   "metadata": {},
   "source": [
    "## Efetuando treinamento para K = 9."
   ]
  },
  {
   "cell_type": "code",
   "execution_count": 29,
   "metadata": {},
   "outputs": [
    {
     "data": {
      "text/plain": [
       "KNeighborsClassifier(algorithm='auto', leaf_size=30, metric='minkowski',\n",
       "                     metric_params=None, n_jobs=None, n_neighbors=9, p=2,\n",
       "                     weights='uniform')"
      ]
     },
     "execution_count": 29,
     "metadata": {},
     "output_type": "execute_result"
    }
   ],
   "source": [
    "knn.fit(training,classes)"
   ]
  },
  {
   "cell_type": "markdown",
   "metadata": {},
   "source": [
    "## Teste simples com dados do começo, meio e fim da base de treino para K = 9."
   ]
  },
  {
   "cell_type": "code",
   "execution_count": 30,
   "metadata": {},
   "outputs": [
    {
     "name": "stdout",
     "output_type": "stream",
     "text": [
      "[0. 0. 0. 1.]\n"
     ]
    }
   ],
   "source": [
    "test = knn.predict([[ 1.4618e-01,  5.1338e-01],[ 4.8062e-01, -4.7228e-02],[ 5.0073e-01,  7.1659e-01] ,[ 3.7448e-01, -3.9462e-01] ])\n",
    "print(test)"
   ]
  },
  {
   "cell_type": "markdown",
   "metadata": {},
   "source": [
    "## Dispersão dos dados para K = 9."
   ]
  },
  {
   "cell_type": "code",
   "execution_count": 31,
   "metadata": {},
   "outputs": [
    {
     "data": {
      "image/png": "[encoded data removed]",
      "text/plain": [
       "<Figure size 432x288 with 1 Axes>"
      ]
     },
     "metadata": {
      "needs_background": "light"
     },
     "output_type": "display_data"
    }
   ],
   "source": [
    "plotar(test_entries1,test_entries2)"
   ]
  },
  {
   "cell_type": "markdown",
   "metadata": {},
   "source": [
    "## Importando o KNN do Sklearning. Usando K = 27."
   ]
  },
  {
   "cell_type": "code",
   "execution_count": 32,
   "metadata": {},
   "outputs": [],
   "source": [
    "from sklearn.neighbors import KNeighborsClassifier\n",
    "knn = KNeighborsClassifier(n_neighbors = 27)"
   ]
  },
  {
   "cell_type": "markdown",
   "metadata": {},
   "source": [
    "## Efetuando treinamento para K = 27."
   ]
  },
  {
   "cell_type": "code",
   "execution_count": 33,
   "metadata": {},
   "outputs": [
    {
     "data": {
      "text/plain": [
       "KNeighborsClassifier(algorithm='auto', leaf_size=30, metric='minkowski',\n",
       "                     metric_params=None, n_jobs=None, n_neighbors=27, p=2,\n",
       "                     weights='uniform')"
      ]
     },
     "execution_count": 33,
     "metadata": {},
     "output_type": "execute_result"
    }
   ],
   "source": [
    "knn.fit(training,classes)"
   ]
  },
  {
   "cell_type": "markdown",
   "metadata": {},
   "source": [
    "## Teste simples com dados do começo, meio e fim da base de treino para K = 27.\n"
   ]
  },
  {
   "cell_type": "code",
   "execution_count": 34,
   "metadata": {},
   "outputs": [
    {
     "name": "stdout",
     "output_type": "stream",
     "text": [
      "[0. 0. 0. 1.]\n"
     ]
    }
   ],
   "source": [
    "test = knn.predict([[ 1.4618e-01,  5.1338e-01],[ 4.8062e-01, -4.7228e-02],[ 5.0073e-01,  7.1659e-01] ,[ 3.7448e-01, -3.9462e-01] ])\n",
    "print(test)"
   ]
  },
  {
   "cell_type": "markdown",
   "metadata": {},
   "source": [
    "## Dispersão dos dados para K = 27."
   ]
  },
  {
   "cell_type": "code",
   "execution_count": 35,
   "metadata": {},
   "outputs": [
    {
     "data": {
      "image/png": "[encoded data removed]",
      "text/plain": [
       "<Figure size 432x288 with 1 Axes>"
      ]
     },
     "metadata": {
      "needs_background": "light"
     },
     "output_type": "display_data"
    }
   ],
   "source": [
    "plotar(test_entries1,test_entries2)"
   ]
  },
  {
   "cell_type": "code",
   "execution_count": 7,
   "metadata": {},
   "outputs": [
    {
     "name": "stdout",
     "output_type": "stream",
     "text": [
      "               x1          x2     classes\n",
      "count  200.000000  200.000000  200.000000\n",
      "mean     0.237194    0.238692    0.500000\n",
      "std      0.412001    0.389256    0.501255\n",
      "min     -0.911878   -0.621226    0.000000\n",
      "25%     -0.062636   -0.024209    0.000000\n",
      "50%      0.232613    0.231104    0.500000\n",
      "75%      0.542133    0.493461    1.000000\n",
      "max      1.353323    1.573754    1.000000\n"
     ]
    },
    {
     "data": {
      "image/png": "[encoded data removed]",
      "text/plain": [
       "<Figure size 432x288 with 1 Axes>"
      ]
     },
     "metadata": {
      "needs_background": "light"
     },
     "output_type": "display_data"
    }
   ],
   "source": [
    "#separando em dataset em forma de numpy\n",
    "dados_treino_x1 = df_ex1.values[:,:1]\n",
    "dados_treino_x2 = df_ex1.values[:,1:2]\n",
    "dados_treino_classe = df_ex1.values[:,2:3]\n",
    "\n",
    "\n",
    "#plotando grafico dos dados de treino\n",
    "for i in range(0,200):\n",
    "    if (dados_treino_classe[i] == 1 ):\n",
    "        plt.scatter(dados_treino_x1[i],dados_treino_x2[i], marker='o', c= 'yellow')\n",
    "    else:\n",
    "        plt.scatter(dados_treino_x1[i],dados_treino_x2[i], marker='o', c='black')\n",
    "        \n",
    "print(df_ex1.describe()) #avaliando metricas        \n",
    "        \n"
   ]
  },
  {
   "cell_type": "markdown",
   "metadata": {},
   "source": [
    "# Dado a plotagem dos dados de aprendizado e suas métricas e comparando com as plotagens de k, nota-se que a medida que o k aumenta cada vez mais precisão da plotagem de teste fica mais fiel tanto a plotagem de apredezido quanto as métricas"
   ]
  },
  {
   "cell_type": "code",
   "execution_count": null,
   "metadata": {},
   "outputs": [],
   "source": []
  }
 ],
 "metadata": {
  "kernelspec": {
   "display_name": "Python 3",
   "language": "python",
   "name": "python3"
  },
  "language_info": {
   "codemirror_mode": {
    "name": "ipython",
    "version": 3
   },
   "file_extension": ".py",
   "mimetype": "text/x-python",
   "name": "python",
   "nbconvert_exporter": "python",
   "pygments_lexer": "ipython3",
   "version": "3.7.4"
  }
 },
 "nbformat": 4,
 "nbformat_minor": 2
}
